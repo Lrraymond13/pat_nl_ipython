{
 "cells": [
  {
   "cell_type": "code",
   "execution_count": 11,
   "metadata": {},
   "outputs": [],
   "source": [
    "import numpy as np\n",
    "import pandas as pd\n",
    "import pandas_ml as pdml\n",
    "\n",
    "import sklearn\n",
    "import pickle\n",
    "import gzip"
   ]
  },
  {
   "cell_type": "code",
   "execution_count": 12,
   "metadata": {},
   "outputs": [],
   "source": [
    "def load_zipped_pickle(filename):\n",
    "    # load a zipped compressed pickle file\n",
    "    with gzip.open(filename, 'rb') as f:\n",
    "        loaded_object = pickle.load(f)\n",
    "        return loaded_object\n",
    "    \n",
    "def save_zipped_pickle(obj, filename, protocol=-1):\n",
    "    # this will default to the highest protocol\n",
    "    with gzip.open(filename, 'wb') as f:\n",
    "        pickle.dump(obj, f, protocol)"
   ]
  },
  {
   "cell_type": "code",
   "execution_count": 49,
   "metadata": {},
   "outputs": [],
   "source": [
    "TARGET = ['10_year_cites', '10_year_cites_top1']"
   ]
  },
  {
   "cell_type": "code",
   "execution_count": 50,
   "metadata": {},
   "outputs": [],
   "source": [
    "TEXT_COLS =['missing_patent_abstract', 'missing_patent_title','flag_has_description_text', 'flag_has_independent_claim_text',\n",
    "            'patent_abstract', 'patent_title']"
   ]
  },
  {
   "cell_type": "code",
   "execution_count": 3,
   "metadata": {},
   "outputs": [],
   "source": [
    "nums = pd.read_pickle('/pool001/lraymond/processed_data/pre_analysis_dfs/standardized_linear_classifier_df.p')"
   ]
  },
  {
   "cell_type": "code",
   "execution_count": 13,
   "metadata": {},
   "outputs": [],
   "source": [
    "index_file = '/pool001/lraymond/patent_data/index_files/sample_pat_nums_all_numerical.gzip'\n",
    "\n",
    "valid_patents2 = load_zipped_pickle(index_file)"
   ]
  },
  {
   "cell_type": "code",
   "execution_count": 30,
   "metadata": {},
   "outputs": [],
   "source": [
    "m = pd.isnull(valid_patents2['patent_abstract'])\n",
    "valid_patents2.loc[m, 'missing_patent_abstract'] = 1\n",
    "\n",
    "m = pd.isnull(valid_patents2['patent_title'])\n",
    "valid_patents2.loc[m, 'missing_patent_title'] = 1\n",
    "\n",
    "\n",
    "from sklearn import svm\n",
    "from sklearn.metrics import roc_curve, auc\n",
    "from sklearn.model_selection import StratifiedKFold\n",
    "from imblearn.under_sampling import RandomUnderSampler"
   ]
  },
  {
   "cell_type": "code",
   "execution_count": 61,
   "metadata": {},
   "outputs": [],
   "source": [
    "txt_pats = valid_patents2.loc[(\n",
    "    (valid_patents2.missing_patent_title==0) & (\n",
    "        valid_patents2.missing_patent_abstract==0) & (valid_patents2.flag_has_independent_claim_text==1) & (\n",
    "            valid_patents2.flag_has_description_text==1)), \n",
    "            ['patent_number', 'patent_abstract', 'patent_title']+TARGET]"
   ]
  },
  {
   "cell_type": "code",
   "execution_count": 74,
   "metadata": {},
   "outputs": [],
   "source": [
    "from imblearn.under_sampling import RandomUnderSampler\n",
    "from sklearn import model_selection\n",
    "\n",
    "rus = RandomUnderSampler(sampling_strategy=.5, return_indices=True, random_state=0)\n",
    "Y_col = ['10_year_cites_top1']\n",
    "X_cols = ['patent_abstract']\n",
    "\n",
    "X = txt_pats[['patent_abstract']].as_matrix()\n",
    "Y = txt_pats[Y_col[0]].as_matrix()\n",
    "\n",
    "\n",
    "X_resampled, y_resampled, ind = rus.fit_resample(X, Y)\n",
    "\n",
    "X_train, X_test, y_train, y_test, pat_nums_train, pat_nums_test = model_selection.train_test_split(\n",
    "    X_resampled, y_resampled, ind, random_state=0, shuffle=True)\n",
    "\n",
    "\n",
    "from sklearn.pipeline import Pipeline\n",
    "from sklearn.feature_extraction.text import TfidfTransformer, CountVectorizer\n",
    "from sklearn.svm import SVC\n",
    "\n",
    "text_clf = Pipeline([\n",
    "    ('vect', CountVectorizer()),\n",
    "     ('tfidf', TfidfTransformer()),\n",
    "    ('svc-sig', SVC(kernel='sigmoid', probability=True)),\n",
    "])\n",
    "\n",
    "\n",
    "text_clf.fit(X_train.reshape(-1,), y_train)\n",
    "\n",
    "predicted = text_clf.predict(X_test.reshape(-1,))"
   ]
  },
  {
   "cell_type": "code",
   "execution_count": 93,
   "metadata": {},
   "outputs": [
    {
     "name": "stdout",
     "output_type": "stream",
     "text": [
      "             precision    recall  f1-score   support\n",
      "\n",
      "         no       0.68      1.00      0.81       789\n",
      "        yes       0.00      0.00      0.00       375\n",
      "\n",
      "avg / total       0.46      0.68      0.55      1164\n",
      "\n"
     ]
    },
    {
     "name": "stderr",
     "output_type": "stream",
     "text": [
      "/home/software/sloan/local/lib/py36/sklearn/metrics/classification.py:1135: UndefinedMetricWarning: Precision and F-score are ill-defined and being set to 0.0 in labels with no predicted samples.\n",
      "  'precision', 'predicted', average, warn_for)\n"
     ]
    }
   ],
   "source": [
    "from sklearn import metrics\n",
    "print(metrics.classification_report(y_test, predicted, target_names=['no', 'yes']))"
   ]
  },
  {
   "cell_type": "code",
   "execution_count": null,
   "metadata": {},
   "outputs": [],
   "source": []
  },
  {
   "cell_type": "code",
   "execution_count": 39,
   "metadata": {},
   "outputs": [],
   "source": []
  },
  {
   "cell_type": "code",
   "execution_count": 40,
   "metadata": {},
   "outputs": [],
   "source": []
  }
 ],
 "metadata": {
  "kernelspec": {
   "display_name": "Python 3",
   "language": "python",
   "name": "python3"
  },
  "language_info": {
   "codemirror_mode": {
    "name": "ipython",
    "version": 3
   },
   "file_extension": ".py",
   "mimetype": "text/x-python",
   "name": "python",
   "nbconvert_exporter": "python",
   "pygments_lexer": "ipython3",
   "version": "3.6.3"
  }
 },
 "nbformat": 4,
 "nbformat_minor": 2
}
