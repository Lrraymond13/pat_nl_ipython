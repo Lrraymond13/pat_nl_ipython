{
 "cells": [
  {
   "cell_type": "code",
   "execution_count": 1,
   "metadata": {},
   "outputs": [
    {
     "name": "stderr",
     "output_type": "stream",
     "text": [
      "/home/software/sloan/local/lib/py36/cryptography/hazmat/bindings/openssl/binding.py:163: CryptographyDeprecationWarning: OpenSSL version 1.0.1 is no longer supported by the OpenSSL project, please upgrade. A future version of cryptography will drop support for it.\n",
      "  utils.CryptographyDeprecationWarning\n",
      "ERROR:root:Internal Python error in the inspect module.\n",
      "Below is the traceback from this internal error.\n",
      "\n"
     ]
    },
    {
     "name": "stdout",
     "output_type": "stream",
     "text": [
      "Traceback (most recent call last):\n",
      "  File \"/home/software/sloan/local/lib/py36/IPython/core/interactiveshell.py\", line 2963, in run_code\n",
      "    exec(code_obj, self.user_global_ns, self.user_ns)\n",
      "  File \"<ipython-input-1-7e489b57df84>\", line 2, in <module>\n",
      "    import tensorflow as tf\n",
      "  File \"/home/software/sloan/local/lib/tensorflow/cpu/py36/1.9.0/tensorflow/__init__.py\", line 22, in <module>\n",
      "    from tensorflow.python import pywrap_tensorflow  # pylint: disable=unused-import\n",
      "  File \"/home/software/sloan/local/lib/tensorflow/cpu/py36/1.9.0/tensorflow/python/__init__.py\", line 82, in <module>\n",
      "    from tensorflow.python.estimator import estimator_lib as estimator\n",
      "  File \"/home/software/sloan/local/lib/tensorflow/cpu/py36/1.9.0/tensorflow/python/estimator/estimator_lib.py\", line 41, in <module>\n",
      "    from tensorflow.python.estimator.inputs import inputs\n",
      "  File \"/home/software/sloan/local/lib/tensorflow/cpu/py36/1.9.0/tensorflow/python/estimator/inputs/inputs.py\", line 22, in <module>\n",
      "    from tensorflow.python.estimator.inputs.numpy_io import numpy_input_fn\n",
      "  File \"/home/software/sloan/local/lib/tensorflow/cpu/py36/1.9.0/tensorflow/python/estimator/inputs/numpy_io.py\", line 26, in <module>\n",
      "    from tensorflow.python.estimator.inputs.queues import feeding_functions\n",
      "  File \"/home/software/sloan/local/lib/tensorflow/cpu/py36/1.9.0/tensorflow/python/estimator/inputs/queues/feeding_functions.py\", line 40, in <module>\n",
      "    import pandas as pd\n",
      "  File \"/home/software/sloan/local/lib/py36/pandas/__init__.py\", line 59, in <module>\n",
      "    from pandas.util._tester import test\n",
      "  File \"/home/software/sloan/local/lib/py36/pandas/util/_tester.py\", line 11, in <module>\n",
      "    import pytest\n",
      "  File \"/home/lraymond/.local/lib/python3.6/site-packages/pytest.py\", line 14, in <module>\n",
      "    from _pytest.fixtures import fillfixtures as _fillfuncargs\n",
      "  File \"/home/lraymond/.local/lib/python3.6/site-packages/_pytest/fixtures.py\", line 19, in <module>\n",
      "    from _pytest import nodes\n",
      "  File \"/home/lraymond/.local/lib/python3.6/site-packages/_pytest/nodes.py\", line 13, in <module>\n",
      "    from _pytest.mark.structures import NodeKeywords\n",
      "  File \"/home/lraymond/.local/lib/python3.6/site-packages/_pytest/mark/__init__.py\", line 8, in <module>\n",
      "    from .structures import EMPTY_PARAMETERSET_OPTION\n",
      "  File \"/home/lraymond/.local/lib/python3.6/site-packages/_pytest/mark/structures.py\", line 141, in <module>\n",
      "    class Mark(object):\n",
      "  File \"/home/lraymond/.local/lib/python3.6/site-packages/_pytest/mark/structures.py\", line 143, in Mark\n",
      "    name = attr.ib(type=str)\n",
      "TypeError: attr() got an unexpected keyword argument 'type'\n",
      "\n",
      "During handling of the above exception, another exception occurred:\n",
      "\n",
      "Traceback (most recent call last):\n",
      "  File \"/home/software/sloan/local/lib/py36/IPython/core/interactiveshell.py\", line 1863, in showtraceback\n",
      "    stb = value._render_traceback_()\n",
      "AttributeError: 'TypeError' object has no attribute '_render_traceback_'\n",
      "\n",
      "During handling of the above exception, another exception occurred:\n",
      "\n",
      "Traceback (most recent call last):\n",
      "  File \"/home/software/sloan/local/lib/py36/IPython/core/ultratb.py\", line 1095, in get_records\n",
      "    return _fixed_getinnerframes(etb, number_of_lines_of_context, tb_offset)\n",
      "  File \"/home/software/sloan/local/lib/py36/IPython/core/ultratb.py\", line 311, in wrapped\n",
      "    return f(*args, **kwargs)\n",
      "  File \"/home/software/sloan/local/lib/py36/IPython/core/ultratb.py\", line 345, in _fixed_getinnerframes\n",
      "    records = fix_frame_records_filenames(inspect.getinnerframes(etb, context))\n",
      "  File \"/home/software/python/3.6.3/lib/python3.6/inspect.py\", line 1480, in getinnerframes\n",
      "    frameinfo = (tb.tb_frame,) + getframeinfo(tb, context)\n",
      "  File \"/home/software/python/3.6.3/lib/python3.6/inspect.py\", line 1438, in getframeinfo\n",
      "    filename = getsourcefile(frame) or getfile(frame)\n",
      "  File \"/home/software/python/3.6.3/lib/python3.6/inspect.py\", line 693, in getsourcefile\n",
      "    if getattr(getmodule(object, filename), '__loader__', None) is not None:\n",
      "  File \"/home/software/python/3.6.3/lib/python3.6/inspect.py\", line 730, in getmodule\n",
      "    if ismodule(module) and hasattr(module, '__file__'):\n",
      "  File \"/home/lraymond/.local/lib/python3.6/site-packages/py/_vendored_packages/apipkg.py\", line 195, in __getattribute__\n",
      "    return getattr(getmod(), name)\n",
      "  File \"/home/lraymond/.local/lib/python3.6/site-packages/py/_vendored_packages/apipkg.py\", line 179, in getmod\n",
      "    x = importobj(modpath, None)\n",
      "  File \"/home/lraymond/.local/lib/python3.6/site-packages/py/_vendored_packages/apipkg.py\", line 69, in importobj\n",
      "    module = __import__(modpath, None, None, ['__doc__'])\n",
      "  File \"/home/lraymond/.local/lib/python3.6/site-packages/pytest.py\", line 14, in <module>\n",
      "    from _pytest.fixtures import fillfixtures as _fillfuncargs\n",
      "  File \"/home/lraymond/.local/lib/python3.6/site-packages/_pytest/fixtures.py\", line 19, in <module>\n",
      "    from _pytest import nodes\n",
      "  File \"/home/lraymond/.local/lib/python3.6/site-packages/_pytest/nodes.py\", line 13, in <module>\n",
      "    from _pytest.mark.structures import NodeKeywords\n",
      "  File \"/home/lraymond/.local/lib/python3.6/site-packages/_pytest/mark/__init__.py\", line 8, in <module>\n",
      "    from .structures import EMPTY_PARAMETERSET_OPTION\n",
      "  File \"/home/lraymond/.local/lib/python3.6/site-packages/_pytest/mark/structures.py\", line 141, in <module>\n",
      "    class Mark(object):\n",
      "  File \"/home/lraymond/.local/lib/python3.6/site-packages/_pytest/mark/structures.py\", line 143, in Mark\n",
      "    name = attr.ib(type=str)\n",
      "TypeError: attr() got an unexpected keyword argument 'type'\n"
     ]
    },
    {
     "ename": "TypeError",
     "evalue": "attr() got an unexpected keyword argument 'type'",
     "output_type": "error",
     "traceback": [
      "\u001b[0;31m---------------------------------------------------------------------------\u001b[0m"
     ]
    }
   ],
   "source": [
    "# import tensorflow and keras\n",
    "import tensorflow as tf\n",
    "from tensorflow import keras\n",
    "\n",
    "# import helper libraries\n",
    "import pandas as pd\n",
    "import numpy as np\n",
    "import matplotlib.pyplot as plt\n",
    "import sklearn\n"
   ]
  },
  {
   "cell_type": "code",
   "execution_count": 2,
   "metadata": {},
   "outputs": [
    {
     "name": "stderr",
     "output_type": "stream",
     "text": [
      "ERROR:root:Internal Python error in the inspect module.\n",
      "Below is the traceback from this internal error.\n",
      "\n"
     ]
    },
    {
     "name": "stdout",
     "output_type": "stream",
     "text": [
      "Traceback (most recent call last):\n",
      "  File \"/home/software/sloan/local/lib/py36/IPython/core/interactiveshell.py\", line 2963, in run_code\n",
      "    exec(code_obj, self.user_global_ns, self.user_ns)\n",
      "  File \"<ipython-input-2-d08c2fda83de>\", line 7, in <module>\n",
      "    tf.logging.set_verbosity(logging.INFO)\n",
      "NameError: name 'tf' is not defined\n",
      "\n",
      "During handling of the above exception, another exception occurred:\n",
      "\n",
      "Traceback (most recent call last):\n",
      "  File \"/home/software/sloan/local/lib/py36/IPython/core/interactiveshell.py\", line 1863, in showtraceback\n",
      "    stb = value._render_traceback_()\n",
      "AttributeError: 'NameError' object has no attribute '_render_traceback_'\n",
      "\n",
      "During handling of the above exception, another exception occurred:\n",
      "\n",
      "Traceback (most recent call last):\n",
      "  File \"/home/software/sloan/local/lib/py36/IPython/core/ultratb.py\", line 1095, in get_records\n",
      "    return _fixed_getinnerframes(etb, number_of_lines_of_context, tb_offset)\n",
      "  File \"/home/software/sloan/local/lib/py36/IPython/core/ultratb.py\", line 311, in wrapped\n",
      "    return f(*args, **kwargs)\n",
      "  File \"/home/software/sloan/local/lib/py36/IPython/core/ultratb.py\", line 345, in _fixed_getinnerframes\n",
      "    records = fix_frame_records_filenames(inspect.getinnerframes(etb, context))\n",
      "  File \"/home/software/python/3.6.3/lib/python3.6/inspect.py\", line 1480, in getinnerframes\n",
      "    frameinfo = (tb.tb_frame,) + getframeinfo(tb, context)\n",
      "  File \"/home/software/python/3.6.3/lib/python3.6/inspect.py\", line 1438, in getframeinfo\n",
      "    filename = getsourcefile(frame) or getfile(frame)\n",
      "  File \"/home/software/python/3.6.3/lib/python3.6/inspect.py\", line 693, in getsourcefile\n",
      "    if getattr(getmodule(object, filename), '__loader__', None) is not None:\n",
      "  File \"/home/software/python/3.6.3/lib/python3.6/inspect.py\", line 730, in getmodule\n",
      "    if ismodule(module) and hasattr(module, '__file__'):\n",
      "  File \"/home/lraymond/.local/lib/python3.6/site-packages/py/_vendored_packages/apipkg.py\", line 195, in __getattribute__\n",
      "    return getattr(getmod(), name)\n",
      "  File \"/home/lraymond/.local/lib/python3.6/site-packages/py/_vendored_packages/apipkg.py\", line 179, in getmod\n",
      "    x = importobj(modpath, None)\n",
      "  File \"/home/lraymond/.local/lib/python3.6/site-packages/py/_vendored_packages/apipkg.py\", line 69, in importobj\n",
      "    module = __import__(modpath, None, None, ['__doc__'])\n",
      "  File \"/home/lraymond/.local/lib/python3.6/site-packages/pytest.py\", line 14, in <module>\n",
      "    from _pytest.fixtures import fillfixtures as _fillfuncargs\n",
      "  File \"/home/lraymond/.local/lib/python3.6/site-packages/_pytest/fixtures.py\", line 19, in <module>\n",
      "    from _pytest import nodes\n",
      "  File \"/home/lraymond/.local/lib/python3.6/site-packages/_pytest/nodes.py\", line 13, in <module>\n",
      "    from _pytest.mark.structures import NodeKeywords\n",
      "  File \"/home/lraymond/.local/lib/python3.6/site-packages/_pytest/mark/__init__.py\", line 8, in <module>\n",
      "    from .structures import EMPTY_PARAMETERSET_OPTION\n",
      "  File \"/home/lraymond/.local/lib/python3.6/site-packages/_pytest/mark/structures.py\", line 141, in <module>\n",
      "    class Mark(object):\n",
      "  File \"/home/lraymond/.local/lib/python3.6/site-packages/_pytest/mark/structures.py\", line 143, in Mark\n",
      "    name = attr.ib(type=str)\n",
      "TypeError: attr() got an unexpected keyword argument 'type'\n"
     ]
    },
    {
     "ename": "NameError",
     "evalue": "name 'tf' is not defined",
     "output_type": "error",
     "traceback": [
      "\u001b[0;31m---------------------------------------------------------------------------\u001b[0m"
     ]
    }
   ],
   "source": [
    "import logging\n",
    "from pathlib import Path\n",
    "import sys\n",
    "\n",
    "# Setup logging\n",
    "Path('tf_logs').mkdir(exist_ok=True)\n",
    "tf.logging.set_verbosity(logging.INFO)\n",
    "handlers = [\n",
    "    #logging.FileHandler('tf_logs/main.log'),\n",
    "    logging.StreamHandler(sys.stdout)\n",
    "]\n",
    "logging.getLogger('tensorflow').handlers = handlers\n"
   ]
  },
  {
   "cell_type": "code",
   "execution_count": 57,
   "metadata": {},
   "outputs": [
    {
     "name": "stdout",
     "output_type": "stream",
     "text": [
      "[node {\n",
      "  name: \"MatMul_4\"\n",
      "  op: \"Const\"\n",
      "  device: \"/job:localhost/replica:0/task:0/device:CPU:0\"\n",
      "  attr {\n",
      "    key: \"dtype\"\n",
      "    value {\n",
      "      type: DT_FLOAT\n",
      "    }\n",
      "  }\n",
      "  attr {\n",
      "    key: \"value\"\n",
      "    value {\n",
      "      tensor {\n",
      "        dtype: DT_FLOAT\n",
      "        tensor_shape {\n",
      "          dim {\n",
      "            size: 2\n",
      "          }\n",
      "          dim {\n",
      "            size: 2\n",
      "          }\n",
      "        }\n",
      "        tensor_content: \"\\000\\000\\260A\\000\\000\\340A\\000\\000DB\\000\\000\\200B\"\n",
      "      }\n",
      "    }\n",
      "  }\n",
      "}\n",
      "node {\n",
      "  name: \"_retval_MatMul_4_0_0\"\n",
      "  op: \"_Retval\"\n",
      "  input: \"MatMul_4\"\n",
      "  device: \"/job:localhost/replica:0/task:0/device:CPU:0\"\n",
      "  attr {\n",
      "    key: \"T\"\n",
      "    value {\n",
      "      type: DT_FLOAT\n",
      "    }\n",
      "  }\n",
      "  attr {\n",
      "    key: \"index\"\n",
      "    value {\n",
      "      i: 0\n",
      "    }\n",
      "  }\n",
      "}\n",
      "library {\n",
      "}\n",
      "versions {\n",
      "  producer: 26\n",
      "}\n",
      "]\n"
     ]
    }
   ],
   "source": [
    "# check if node has gpu or cpu\n",
    "# Creates a graph.\n",
    "a = tf.constant([1.0, 2.0, 3.0, 4.0, 5.0, 6.0], shape=[2, 3], name='a')\n",
    "b = tf.constant([1.0, 2.0, 3.0, 4.0, 5.0, 6.0], shape=[3, 2], name='b')\n",
    "c = tf.matmul(a, b)\n",
    "# Creates a session with log_device_placement set to True.\n",
    "sess = tf.Session(config=tf.ConfigProto(log_device_placement=True))\n",
    "# Runs the op.\n",
    "# Runs the op.\n",
    "options = tf.RunOptions(output_partition_graphs=True)\n",
    "metadata = tf.RunMetadata()\n",
    "c_val = sess.run(c, options=options, run_metadata=metadata)\n",
    "\n",
    "print(metadata.partition_graphs)"
   ]
  },
  {
   "cell_type": "markdown",
   "metadata": {},
   "source": [
    "## Checking TF \n",
    "https://www.tensorflow.org/tutorials/keras/basic_classification/\n"
   ]
  },
  {
   "cell_type": "code",
   "execution_count": 58,
   "metadata": {},
   "outputs": [
    {
     "name": "stdout",
     "output_type": "stream",
     "text": [
      "1.9.0-rc1\n"
     ]
    }
   ],
   "source": [
    "print(tf.__version__)"
   ]
  },
  {
   "cell_type": "code",
   "execution_count": 18,
   "metadata": {},
   "outputs": [
    {
     "name": "stdout",
     "output_type": "stream",
     "text": [
      "Downloading data from http://fashion-mnist.s3-website.eu-central-1.amazonaws.com/train-labels-idx1-ubyte.gz\n",
      "32768/29515 [=================================] - 0s 2us/step\n",
      "Downloading data from http://fashion-mnist.s3-website.eu-central-1.amazonaws.com/train-images-idx3-ubyte.gz\n",
      "26427392/26421880 [==============================] - 2s 0us/step\n",
      "Downloading data from http://fashion-mnist.s3-website.eu-central-1.amazonaws.com/t10k-labels-idx1-ubyte.gz\n",
      "8192/5148 [===============================================] - 0s 0us/step\n",
      "Downloading data from http://fashion-mnist.s3-website.eu-central-1.amazonaws.com/t10k-images-idx3-ubyte.gz\n",
      "4423680/4422102 [==============================] - 1s 0us/step\n"
     ]
    }
   ],
   "source": [
    "fashion_mnist = keras.datasets.fashion_mnist\n",
    "\n",
    "(train_images, train_labels), (test_images, test_labels) = fashion_mnist.load_data()\n"
   ]
  },
  {
   "cell_type": "code",
   "execution_count": 19,
   "metadata": {},
   "outputs": [],
   "source": [
    "class_names = ['T-shirt/top', 'Trouser', 'Pullover', 'Dress', 'Coat', \n",
    "               'Sandal', 'Shirt', 'Sneaker', 'Bag', 'Ankle boot']\n"
   ]
  },
  {
   "cell_type": "code",
   "execution_count": 24,
   "metadata": {},
   "outputs": [],
   "source": [
    "# scale color values between 0 and 1 by dividing by 255\n",
    "train_images = train_images / 255.0\n",
    "\n",
    "test_images = test_images / 255.0\n"
   ]
  },
  {
   "cell_type": "code",
   "execution_count": null,
   "metadata": {},
   "outputs": [],
   "source": []
  },
  {
   "cell_type": "code",
   "execution_count": 31,
   "metadata": {},
   "outputs": [],
   "source": [
    "model = keras.Sequential([\n",
    "    keras.layers.Flatten(input_shape=(28, 28)),\n",
    "    keras.layers.Dense(128, activation=tf.nn.relu),\n",
    "    keras.layers.Dense(10, activation=tf.nn.softmax)\n",
    "])\n"
   ]
  },
  {
   "cell_type": "markdown",
   "metadata": {},
   "source": [
    "Before the model is ready for training, it needs a few more settings. These are added during the model's compile step:\n",
    "\n",
    "    Loss function —This measures how accurate the model is during training. We want to minimize this function to \"steer\" the model in the right direction.\n",
    "    Optimizer —This is how the model is updated based on the data it sees and its loss function.\n",
    "    Metrics —Used to monitor the training and testing steps. The following example uses accuracy, the fraction of the images that are correctly classified.\n"
   ]
  },
  {
   "cell_type": "code",
   "execution_count": 32,
   "metadata": {},
   "outputs": [],
   "source": [
    "model.compile(optimizer='adam', \n",
    "              loss='sparse_categorical_crossentropy',\n",
    "              metrics=['accuracy'])\n"
   ]
  },
  {
   "cell_type": "markdown",
   "metadata": {},
   "source": [
    "Training the neural network model requires the following steps:\n",
    "\n",
    "    Feed the training data to the model—in this example, the train_images and train_labels arrays.\n",
    "    The model learns to associate images and labels.\n",
    "    We ask the model to make predictions about a test set—in this example, the test_images array. We verify that the predictions match the labels from the test_labels array.\n",
    "\n",
    "To start training, call the model.fit method—the model is \"fit\" to the training data:"
   ]
  },
  {
   "cell_type": "code",
   "execution_count": 33,
   "metadata": {},
   "outputs": [
    {
     "name": "stdout",
     "output_type": "stream",
     "text": [
      "Epoch 1/5\n",
      "60000/60000 [==============================] - 4s 70us/step - loss: 0.4899 - acc: 0.8293\n",
      "Epoch 2/5\n",
      "60000/60000 [==============================] - 3s 57us/step - loss: 0.3711 - acc: 0.8659\n",
      "Epoch 3/5\n",
      "60000/60000 [==============================] - 3s 56us/step - loss: 0.3346 - acc: 0.8781\n",
      "Epoch 4/5\n",
      "60000/60000 [==============================] - 3s 57us/step - loss: 0.3111 - acc: 0.8860\n",
      "Epoch 5/5\n",
      "60000/60000 [==============================] - 3s 57us/step - loss: 0.2923 - acc: 0.8914\n"
     ]
    },
    {
     "data": {
      "text/plain": [
       "<tensorflow.python.keras.callbacks.History at 0x2aab642ce0f0>"
      ]
     },
     "execution_count": 33,
     "metadata": {},
     "output_type": "execute_result"
    }
   ],
   "source": [
    "model.fit(train_images, train_labels, epochs=5)\n"
   ]
  },
  {
   "cell_type": "code",
   "execution_count": 34,
   "metadata": {},
   "outputs": [
    {
     "name": "stdout",
     "output_type": "stream",
     "text": [
      "10000/10000 [==============================] - 0s 22us/step\n",
      "Test accuracy: 0.8719\n"
     ]
    }
   ],
   "source": [
    "test_loss, test_acc = model.evaluate(test_images, test_labels)\n",
    "\n",
    "print('Test accuracy:', test_acc)\n"
   ]
  },
  {
   "cell_type": "markdown",
   "metadata": {},
   "source": [
    "# RUN MultiLayer Classification Exercise on Patent Dataset "
   ]
  },
  {
   "cell_type": "markdown",
   "metadata": {},
   "source": [
    "* load patent data (no NLP) vector learned\n",
    "* load into using tensorflow using pandas helper function\n",
    "* structure NN with dense layers"
   ]
  },
  {
   "cell_type": "markdown",
   "metadata": {},
   "source": [
    "# #import keras-pandas library\n",
    "### with tf.estimator class, can use pandas input function, but here I want to build a custom class, I want something that is flexible\n",
    "`\n",
    "https://towardsdatascience.com/elmo-embeddings-in-keras-with-tensorflow-hub-7eb6f0145440\n",
    "https://keras.io/getting-started/sequential-model-guide/#mlp-for-binary-classification\n",
    "https://github.com/strongio/keras-elmo/blob/master/Elmo%20Keras.ipynb\n",
    "https://github.com/allenai/bilm-tf/issues/73\n",
    "https://github.com/strongio/keras-elmo/blob/master/Elmo%20Keras.ipynb\n",
    "https://tfhub.dev/google/elmo/2\n",
    "https://machinelearningmastery.com/use-word-embedding-layers-deep-learning-keras/\n",
    "\n",
    "## Look at the metrics available from tensor flow output\n",
    "## Also how to balance classes pre tensor\n",
    "# generate and output with a combo of dense networks\n",
    "# once feel comfortable with that add in GLOVE embeddings\n",
    "# then build a pipeline so data does not have to be stored in memory (a generator)"
   ]
  },
  {
   "cell_type": "code",
   "execution_count": 59,
   "metadata": {},
   "outputs": [],
   "source": [
    "v6 = pd.read_pickle(\n",
    "    '/pool001/lraymond/processed_data/pre_analysis_dfs/standardized_linear_classifier_df.p')"
   ]
  },
  {
   "cell_type": "code",
   "execution_count": 60,
   "metadata": {},
   "outputs": [
    {
     "data": {
      "text/html": [
       "<div>\n",
       "<style>\n",
       "    .dataframe thead tr:only-child th {\n",
       "        text-align: right;\n",
       "    }\n",
       "\n",
       "    .dataframe thead th {\n",
       "        text-align: left;\n",
       "    }\n",
       "\n",
       "    .dataframe tbody tr th {\n",
       "        vertical-align: top;\n",
       "    }\n",
       "</style>\n",
       "<table border=\"1\" class=\"dataframe\">\n",
       "  <thead>\n",
       "    <tr style=\"text-align: right;\">\n",
       "      <th></th>\n",
       "      <th>description_word_count</th>\n",
       "      <th>lawyer_total_num_assignees</th>\n",
       "      <th>lawyer_total_num_inventors</th>\n",
       "      <th>lawyer_total_num_patents</th>\n",
       "      <th>max_dependent_claim</th>\n",
       "      <th>max_independent_claim</th>\n",
       "      <th>max_reference_sequence</th>\n",
       "      <th>min_reference_sequence</th>\n",
       "      <th>inventor_total_num_patents</th>\n",
       "      <th>number_assignees</th>\n",
       "      <th>...</th>\n",
       "      <th>flag_has_references</th>\n",
       "      <th>missing_citations_made</th>\n",
       "      <th>missing_patent_abstract</th>\n",
       "      <th>missing_patent_title</th>\n",
       "      <th>10_year_cites</th>\n",
       "      <th>10_year_cites_top1</th>\n",
       "      <th>10_year_cites_top10</th>\n",
       "      <th>10_year_cites_top50</th>\n",
       "      <th>10_year_cites_top75</th>\n",
       "      <th>10_year_cites_above0</th>\n",
       "    </tr>\n",
       "    <tr>\n",
       "      <th>patent_number</th>\n",
       "      <th></th>\n",
       "      <th></th>\n",
       "      <th></th>\n",
       "      <th></th>\n",
       "      <th></th>\n",
       "      <th></th>\n",
       "      <th></th>\n",
       "      <th></th>\n",
       "      <th></th>\n",
       "      <th></th>\n",
       "      <th></th>\n",
       "      <th></th>\n",
       "      <th></th>\n",
       "      <th></th>\n",
       "      <th></th>\n",
       "      <th></th>\n",
       "      <th></th>\n",
       "      <th></th>\n",
       "      <th></th>\n",
       "      <th></th>\n",
       "      <th></th>\n",
       "    </tr>\n",
       "  </thead>\n",
       "  <tbody>\n",
       "    <tr>\n",
       "      <th>4490860</th>\n",
       "      <td>-0.065373</td>\n",
       "      <td>-0.387168</td>\n",
       "      <td>-0.376298</td>\n",
       "      <td>-0.369129</td>\n",
       "      <td>0.0</td>\n",
       "      <td>-0.582795</td>\n",
       "      <td>-0.190683</td>\n",
       "      <td>0.0</td>\n",
       "      <td>-0.377771</td>\n",
       "      <td>0.492818</td>\n",
       "      <td>...</td>\n",
       "      <td>0</td>\n",
       "      <td>0</td>\n",
       "      <td>0</td>\n",
       "      <td>0</td>\n",
       "      <td>2</td>\n",
       "      <td>0</td>\n",
       "      <td>0</td>\n",
       "      <td>0</td>\n",
       "      <td>1</td>\n",
       "      <td>1</td>\n",
       "    </tr>\n",
       "    <tr>\n",
       "      <th>4490861</th>\n",
       "      <td>-0.490310</td>\n",
       "      <td>-0.430370</td>\n",
       "      <td>-0.374976</td>\n",
       "      <td>-0.392024</td>\n",
       "      <td>0.0</td>\n",
       "      <td>-0.416855</td>\n",
       "      <td>-0.190683</td>\n",
       "      <td>0.0</td>\n",
       "      <td>-0.172345</td>\n",
       "      <td>-1.785794</td>\n",
       "      <td>...</td>\n",
       "      <td>0</td>\n",
       "      <td>0</td>\n",
       "      <td>0</td>\n",
       "      <td>0</td>\n",
       "      <td>3</td>\n",
       "      <td>0</td>\n",
       "      <td>0</td>\n",
       "      <td>0</td>\n",
       "      <td>1</td>\n",
       "      <td>1</td>\n",
       "    </tr>\n",
       "    <tr>\n",
       "      <th>4490864</th>\n",
       "      <td>-0.946594</td>\n",
       "      <td>-0.144158</td>\n",
       "      <td>-0.320458</td>\n",
       "      <td>-0.299371</td>\n",
       "      <td>0.0</td>\n",
       "      <td>-0.333884</td>\n",
       "      <td>-0.190683</td>\n",
       "      <td>0.0</td>\n",
       "      <td>-0.377771</td>\n",
       "      <td>-1.785794</td>\n",
       "      <td>...</td>\n",
       "      <td>0</td>\n",
       "      <td>0</td>\n",
       "      <td>0</td>\n",
       "      <td>0</td>\n",
       "      <td>5</td>\n",
       "      <td>0</td>\n",
       "      <td>0</td>\n",
       "      <td>0</td>\n",
       "      <td>1</td>\n",
       "      <td>1</td>\n",
       "    </tr>\n",
       "    <tr>\n",
       "      <th>4490868</th>\n",
       "      <td>-0.500759</td>\n",
       "      <td>-0.435770</td>\n",
       "      <td>-0.367377</td>\n",
       "      <td>-0.372349</td>\n",
       "      <td>0.0</td>\n",
       "      <td>-0.499825</td>\n",
       "      <td>-0.190683</td>\n",
       "      <td>0.0</td>\n",
       "      <td>-0.120988</td>\n",
       "      <td>0.492818</td>\n",
       "      <td>...</td>\n",
       "      <td>0</td>\n",
       "      <td>0</td>\n",
       "      <td>0</td>\n",
       "      <td>0</td>\n",
       "      <td>1</td>\n",
       "      <td>0</td>\n",
       "      <td>0</td>\n",
       "      <td>0</td>\n",
       "      <td>0</td>\n",
       "      <td>1</td>\n",
       "    </tr>\n",
       "    <tr>\n",
       "      <th>4490876</th>\n",
       "      <td>-0.048828</td>\n",
       "      <td>-0.346666</td>\n",
       "      <td>-0.335657</td>\n",
       "      <td>-0.317973</td>\n",
       "      <td>0.0</td>\n",
       "      <td>-0.084973</td>\n",
       "      <td>-0.190683</td>\n",
       "      <td>0.0</td>\n",
       "      <td>-0.377771</td>\n",
       "      <td>-1.785794</td>\n",
       "      <td>...</td>\n",
       "      <td>0</td>\n",
       "      <td>0</td>\n",
       "      <td>0</td>\n",
       "      <td>0</td>\n",
       "      <td>1</td>\n",
       "      <td>0</td>\n",
       "      <td>0</td>\n",
       "      <td>0</td>\n",
       "      <td>0</td>\n",
       "      <td>1</td>\n",
       "    </tr>\n",
       "  </tbody>\n",
       "</table>\n",
       "<p>5 rows × 172 columns</p>\n",
       "</div>"
      ],
      "text/plain": [
       "               description_word_count  lawyer_total_num_assignees  \\\n",
       "patent_number                                                       \n",
       "4490860                     -0.065373                   -0.387168   \n",
       "4490861                     -0.490310                   -0.430370   \n",
       "4490864                     -0.946594                   -0.144158   \n",
       "4490868                     -0.500759                   -0.435770   \n",
       "4490876                     -0.048828                   -0.346666   \n",
       "\n",
       "               lawyer_total_num_inventors  lawyer_total_num_patents  \\\n",
       "patent_number                                                         \n",
       "4490860                         -0.376298                 -0.369129   \n",
       "4490861                         -0.374976                 -0.392024   \n",
       "4490864                         -0.320458                 -0.299371   \n",
       "4490868                         -0.367377                 -0.372349   \n",
       "4490876                         -0.335657                 -0.317973   \n",
       "\n",
       "               max_dependent_claim  max_independent_claim  \\\n",
       "patent_number                                               \n",
       "4490860                        0.0              -0.582795   \n",
       "4490861                        0.0              -0.416855   \n",
       "4490864                        0.0              -0.333884   \n",
       "4490868                        0.0              -0.499825   \n",
       "4490876                        0.0              -0.084973   \n",
       "\n",
       "               max_reference_sequence  min_reference_sequence  \\\n",
       "patent_number                                                   \n",
       "4490860                     -0.190683                     0.0   \n",
       "4490861                     -0.190683                     0.0   \n",
       "4490864                     -0.190683                     0.0   \n",
       "4490868                     -0.190683                     0.0   \n",
       "4490876                     -0.190683                     0.0   \n",
       "\n",
       "               inventor_total_num_patents  number_assignees  \\\n",
       "patent_number                                                 \n",
       "4490860                         -0.377771          0.492818   \n",
       "4490861                         -0.172345         -1.785794   \n",
       "4490864                         -0.377771         -1.785794   \n",
       "4490868                         -0.120988          0.492818   \n",
       "4490876                         -0.377771         -1.785794   \n",
       "\n",
       "                       ...           flag_has_references  \\\n",
       "patent_number          ...                                 \n",
       "4490860                ...                             0   \n",
       "4490861                ...                             0   \n",
       "4490864                ...                             0   \n",
       "4490868                ...                             0   \n",
       "4490876                ...                             0   \n",
       "\n",
       "               missing_citations_made  missing_patent_abstract  \\\n",
       "patent_number                                                    \n",
       "4490860                             0                        0   \n",
       "4490861                             0                        0   \n",
       "4490864                             0                        0   \n",
       "4490868                             0                        0   \n",
       "4490876                             0                        0   \n",
       "\n",
       "               missing_patent_title  10_year_cites  10_year_cites_top1  \\\n",
       "patent_number                                                            \n",
       "4490860                           0              2                   0   \n",
       "4490861                           0              3                   0   \n",
       "4490864                           0              5                   0   \n",
       "4490868                           0              1                   0   \n",
       "4490876                           0              1                   0   \n",
       "\n",
       "               10_year_cites_top10  10_year_cites_top50  10_year_cites_top75  \\\n",
       "patent_number                                                                  \n",
       "4490860                          0                    0                    1   \n",
       "4490861                          0                    0                    1   \n",
       "4490864                          0                    0                    1   \n",
       "4490868                          0                    0                    0   \n",
       "4490876                          0                    0                    0   \n",
       "\n",
       "               10_year_cites_above0  \n",
       "patent_number                        \n",
       "4490860                           1  \n",
       "4490861                           1  \n",
       "4490864                           1  \n",
       "4490868                           1  \n",
       "4490876                           1  \n",
       "\n",
       "[5 rows x 172 columns]"
      ]
     },
     "execution_count": 60,
     "metadata": {},
     "output_type": "execute_result"
    }
   ],
   "source": [
    "v6.head()"
   ]
  },
  {
   "cell_type": "code",
   "execution_count": 65,
   "metadata": {},
   "outputs": [],
   "source": [
    "import imblearn\n",
    "from imblearn.under_sampling import RandomUnderSampler\n",
    "import sklearn"
   ]
  },
  {
   "cell_type": "code",
   "execution_count": 66,
   "metadata": {},
   "outputs": [],
   "source": [
    "output_col = '10_year_cites_top1'"
   ]
  },
  {
   "cell_type": "code",
   "execution_count": 67,
   "metadata": {},
   "outputs": [
    {
     "name": "stdout",
     "output_type": "stream",
     "text": [
      "10_year_cites_top1\n",
      "(3854, 166) (3854,) 0.5\n"
     ]
    }
   ],
   "source": [
    "print(output_col)\n",
    "    # Y_col = ['10_year_cites_top1']\n",
    "Y_col = output_col\n",
    "X_cols = [c for c in v6.columns if '_cites' not in c]\n",
    "\n",
    "# print(sorted(X_cols))\n",
    "rus = RandomUnderSampler(sampling_strategy=1, return_indices=True, random_state=0)\n",
    "    \n",
    "# If I want to control to contrast group, I select on the 10 year cites values column\n",
    "    # print(np.any(np.logical_and(mask_control, mask_target)))\n",
    "\n",
    "X = v6[X_cols].as_matrix()\n",
    "Y = v6[Y_col]\n",
    "# (X[ind]==X_resampled).all() should be True\n",
    "X_resampled, y_resampled, ind = rus.fit_resample(X, Y)\n",
    "print(X_resampled.shape, y_resampled.shape, y_resampled.mean())\n",
    "    \n",
    "X_train, X_test, y_train, y_test, pat_nums_train, pat_nums_test = sklearn.model_selection.train_test_split(\n",
    "    X_resampled, y_resampled, ind, random_state=0, shuffle=True)"
   ]
  },
  {
   "cell_type": "code",
   "execution_count": 169,
   "metadata": {},
   "outputs": [],
   "source": [
    "import keras\n",
    "#from keras.models import Sequential\n",
    "from keras.layers import Dense, Dropout, BatchNormalization"
   ]
  },
  {
   "cell_type": "code",
   "execution_count": 183,
   "metadata": {},
   "outputs": [
    {
     "name": "stdout",
     "output_type": "stream",
     "text": [
      "166\n"
     ]
    }
   ],
   "source": [
    "#Initializing Neural Network\n",
    "classifier = keras.models.Sequential()\n",
    "INPUT_DIM = X_train.shape[1]\n",
    "print(INPUT_DIM)\n",
    "SEED = 10\n",
    "DROPOUT_RATE = 0.5\n",
    "\n",
    "# Adding the input layer and the first hidden layer\n",
    "classifier.add(Dense(32, kernel_initializer=\"normal\", activation='sigmoid', use_bias=True, input_shape=(INPUT_DIM,)))\n",
    "# now the model will take as input arrays of shape (*, INPUT_DIM)\n",
    "# and output arrays of shape (*, 32)\n",
    "\n",
    "#classifier.add(Dropout(rate=DROPOUT_RATE, seed=SEED))\n",
    "classifier.add(BatchNormalization())\n",
    "# after the first layer, you don't need to specify\n",
    "# the size of the input anymore:\n",
    "# Adding the second hidden layer\n",
    "classifier.add(Dense(64, kernel_initializer=\"normal\", activation='relu', use_bias=True))\n",
    "classifier.add(BatchNormalization())\n",
    "#classifier.add(Dropout(rate=DROPOUT_RATE, seed=SEED))\n",
    "\n",
    "# after the first layer, you don't need to specify\n",
    "# the size of the input anymore:\n",
    "# Adding the second hidden layer\n",
    "classifier.add(Dense(64, kernel_initializer=\"normal\", activation='relu', use_bias=True))\n",
    "classifier.add(BatchNormalization())\n",
    "#classifier.add(Dropout(rate=DROPOUT_RATE, seed=SEED))\n",
    "\n",
    "# Adding the output layer\n",
    "classifier.add(Dense(1, activation='sigmoid'))\n",
    "\n",
    "# This is NLL \n",
    "classifier.compile(loss='binary_crossentropy',\n",
    "                   # RMSProp algorithm - momentum, gradient moving average andbias correction \n",
    "              optimizer='rmsprop',\n",
    "              metrics=['accuracy'])\n",
    "\n"
   ]
  },
  {
   "cell_type": "code",
   "execution_count": 184,
   "metadata": {
    "scrolled": true
   },
   "outputs": [
    {
     "name": "stdout",
     "output_type": "stream",
     "text": [
      "Epoch 1/20\n",
      "2890/2890 [==============================] - 1s 496us/step - loss: 0.6153 - acc: 0.6734\n",
      "Epoch 2/20\n",
      "2890/2890 [==============================] - 0s 26us/step - loss: 0.5177 - acc: 0.7474\n",
      "Epoch 3/20\n",
      "2890/2890 [==============================] - 0s 26us/step - loss: 0.4811 - acc: 0.7630\n",
      "Epoch 4/20\n",
      "2890/2890 [==============================] - 0s 27us/step - loss: 0.4688 - acc: 0.7830\n",
      "Epoch 5/20\n",
      "2890/2890 [==============================] - 0s 27us/step - loss: 0.4427 - acc: 0.7945\n",
      "Epoch 6/20\n",
      "2890/2890 [==============================] - 0s 27us/step - loss: 0.4318 - acc: 0.8021\n",
      "Epoch 7/20\n",
      "2890/2890 [==============================] - 0s 27us/step - loss: 0.4152 - acc: 0.8107\n",
      "Epoch 8/20\n",
      "2890/2890 [==============================] - 0s 28us/step - loss: 0.3952 - acc: 0.8194\n",
      "Epoch 9/20\n",
      "2890/2890 [==============================] - 0s 26us/step - loss: 0.3810 - acc: 0.8322\n",
      "Epoch 10/20\n",
      "2890/2890 [==============================] - 0s 27us/step - loss: 0.3675 - acc: 0.8436\n",
      "Epoch 11/20\n",
      "2890/2890 [==============================] - 0s 27us/step - loss: 0.3501 - acc: 0.8453\n",
      "Epoch 12/20\n",
      "2890/2890 [==============================] - 0s 27us/step - loss: 0.3450 - acc: 0.8474\n",
      "Epoch 13/20\n",
      "2890/2890 [==============================] - 0s 29us/step - loss: 0.3253 - acc: 0.8619\n",
      "Epoch 14/20\n",
      "2890/2890 [==============================] - 0s 27us/step - loss: 0.3092 - acc: 0.8692\n",
      "Epoch 15/20\n",
      "2890/2890 [==============================] - 0s 28us/step - loss: 0.3037 - acc: 0.8734\n",
      "Epoch 16/20\n",
      "2890/2890 [==============================] - 0s 28us/step - loss: 0.2910 - acc: 0.8792\n",
      "Epoch 17/20\n",
      "2890/2890 [==============================] - 0s 27us/step - loss: 0.2773 - acc: 0.8903\n",
      "Epoch 18/20\n",
      "2890/2890 [==============================] - 0s 27us/step - loss: 0.2707 - acc: 0.8958\n",
      "Epoch 19/20\n",
      "2890/2890 [==============================] - 0s 27us/step - loss: 0.2549 - acc: 0.8938\n",
      "Epoch 20/20\n",
      "2890/2890 [==============================] - 0s 27us/step - loss: 0.2468 - acc: 0.9045\n"
     ]
    },
    {
     "data": {
      "text/plain": [
       "<keras.callbacks.History at 0x2aabf2104630>"
      ]
     },
     "execution_count": 184,
     "metadata": {},
     "output_type": "execute_result"
    }
   ],
   "source": [
    "# An epoch is one iteration over the entire input data \n",
    "# validation_data=(val_data, val_labels))\n",
    "# hen prototyping a model, you want to easily monitor its performance on some validation data. \n",
    "# Passing this argument—a tuple of inputs and labels—allows the model to display the loss and metrics\n",
    "# in inference mode for the passed data, at the end of each epoch\n",
    "classifier.fit(X_train, y_train,\n",
    "          epochs=20,\n",
    "          batch_size=128)\n"
   ]
  },
  {
   "cell_type": "code",
   "execution_count": 185,
   "metadata": {},
   "outputs": [
    {
     "name": "stdout",
     "output_type": "stream",
     "text": [
      "964/964 [==============================] - 0s 343us/step\n"
     ]
    },
    {
     "data": {
      "text/plain": [
       "[0.7016636590739999, 0.6981327800829875]"
      ]
     },
     "execution_count": 185,
     "metadata": {},
     "output_type": "execute_result"
    }
   ],
   "source": [
    "classifier.evaluate(X_test, y_test)"
   ]
  },
  {
   "cell_type": "code",
   "execution_count": 186,
   "metadata": {},
   "outputs": [],
   "source": [
    "y_hat_classes = classifier.predict_classes(X_test)"
   ]
  },
  {
   "cell_type": "code",
   "execution_count": 187,
   "metadata": {},
   "outputs": [],
   "source": [
    "cm1 = sklearn.metrics.confusion_matrix(y_test, y_hat_classes)"
   ]
  },
  {
   "cell_type": "code",
   "execution_count": 188,
   "metadata": {},
   "outputs": [
    {
     "name": "stdout",
     "output_type": "stream",
     "text": [
      "Confusion Matrix : \n",
      " [[276 213]\n",
      " [ 78 397]]\n"
     ]
    }
   ],
   "source": [
    "print('Confusion Matrix : \\n', cm1)\n",
    "# Cij is number of observations known to be in group i but predicted to be in group j\n",
    "# (0,0) is predicted to be in group 0 and actually in group 0\n",
    "# (1,0) predictedto be in top 1, but actually in 0\n",
    "# (0,1) predicted to be NOT top 1, but actually in top 1\n",
    "# (1,1) predicted to be in top 1 and actually in top 1"
   ]
  },
  {
   "cell_type": "code",
   "execution_count": 189,
   "metadata": {},
   "outputs": [],
   "source": [
    "def plot_confusion_matrix(y_true, y_pred, classes,\n",
    "                          normalize=False,\n",
    "                          title=None,\n",
    "                          cmap=plt.cm.Blues):\n",
    "    \"\"\"\n",
    "    This function prints and plots the confusion matrix.\n",
    "    Normalization can be applied by setting `normalize=True`.\n",
    "    \"\"\"\n",
    "    if not title:\n",
    "        if normalize:\n",
    "            title = 'Normalized confusion matrix'\n",
    "        else:\n",
    "            title = 'Confusion matrix, without normalization'\n",
    "\n",
    "    # Compute confusion matrix\n",
    "    cm =  sklearn.metrics.confusion_matrix(y_true, y_pred)\n",
    "    # Only use the labels that appear in the data\n",
    "    \n",
    "    classes_in_data = np.array(classes)[sklearn.utils.multiclass.unique_labels(y_true, y_pred)]\n",
    "    if normalize:\n",
    "        cm = cm.astype('float') / cm.sum(axis=1)[:, np.newaxis]\n",
    "        print(\"Normalized confusion matrix\")\n",
    "    else:\n",
    "        print('Confusion matrix, without normalization')\n",
    "\n",
    "    print(cm)\n",
    "\n",
    "    fig, ax = plt.subplots()\n",
    "    im = ax.imshow(cm, interpolation='nearest', cmap=cmap)\n",
    "    ax.figure.colorbar(im, ax=ax)\n",
    "    # We want to show all ticks...\n",
    "    ax.set(xticks=np.arange(cm.shape[1]),\n",
    "           yticks=np.arange(cm.shape[0]),\n",
    "           # ... and label them with the respective list entries\n",
    "           xticklabels=classes_in_data, yticklabels=classes_in_data,\n",
    "           title=title,\n",
    "           ylabel='True label',\n",
    "           xlabel='Predicted label')\n",
    "\n",
    "    # Rotate the tick labels and set their alignment.\n",
    "    plt.setp(ax.get_xticklabels(), rotation=45, ha=\"right\",\n",
    "             rotation_mode=\"anchor\")\n",
    "\n",
    "    # Loop over data dimensions and create text annotations.\n",
    "    fmt = '.2f' if normalize else 'd'\n",
    "    thresh = cm.max() / 2.\n",
    "    for i in range(cm.shape[0]):\n",
    "        for j in range(cm.shape[1]):\n",
    "            ax.text(j, i, format(cm[i, j], fmt),\n",
    "                    ha=\"center\", va=\"center\",\n",
    "                    color=\"white\" if cm[i, j] > thresh else \"black\")\n",
    "    fig.tight_layout()\n",
    "    return ax\n",
    "\n"
   ]
  },
  {
   "cell_type": "code",
   "execution_count": 190,
   "metadata": {},
   "outputs": [
    {
     "name": "stdout",
     "output_type": "stream",
     "text": [
      "Normalized confusion matrix\n",
      "[[0.56 0.44]\n",
      " [0.16 0.84]]\n"
     ]
    },
    {
     "data": {
      "image/png": "[encoded data removed]",
      "text/plain": [
       "<matplotlib.figure.Figure at 0x2aab63ca94a8>"
      ]
     },
     "metadata": {
      "needs_background": "light"
     },
     "output_type": "display_data"
    }
   ],
   "source": [
    "\n",
    "np.set_printoptions(precision=2)\n",
    "\n",
    "# Plot non-normalized confusion matrix\n",
    "plot_confusion_matrix(y_test, y_hat_classes, classes=['0', '1'], normalize=True,\n",
    "                      title='Confusion matrix, with normalization')\n",
    "\n",
    "\n",
    "plt.show()\n"
   ]
  },
  {
   "cell_type": "code",
   "execution_count": 191,
   "metadata": {},
   "outputs": [],
   "source": [
    "# plot ROC curve of the model"
   ]
  },
  {
   "cell_type": "code",
   "execution_count": 192,
   "metadata": {},
   "outputs": [],
   "source": [
    "from keras.wrappers.scikit_learn import KerasClassifier"
   ]
  },
  {
   "cell_type": "code",
   "execution_count": null,
   "metadata": {},
   "outputs": [],
   "source": [
    "INPUT_DIM = X_train.shape[1]\n",
    "print(INPUT_DIM)\n",
    "SEED = 10\n",
    "DROPOUT_RATE = 0.5"
   ]
  },
  {
   "cell_type": "code",
   "execution_count": 207,
   "metadata": {},
   "outputs": [],
   "source": [
    "def build_sigmoid_relu_relu_NN(input_dim):\n",
    "    classifier = keras.models.Sequential()\n",
    "    classifier.add(\n",
    "        Dense(128, kernel_initializer=\"normal\", activation='sigmoid', use_bias=True, input_shape=(INPUT_DIM,)))\n",
    "    classifier.add(BatchNormalization())\n",
    "    classifier.add(Dense(128, kernel_initializer=\"normal\", activation='relu', use_bias=True))\n",
    "    classifier.add(BatchNormalization())\n",
    "    classifier.add(Dense(128, kernel_initializer=\"normal\", activation='relu', use_bias=True))\n",
    "    classifier.add(BatchNormalization())\n",
    "    classifier.add(Dense(1, activation='sigmoid'))\n",
    "    # compile layer\n",
    "    classifier.compile(\n",
    "        loss='binary_crossentropy',\n",
    "                   # RMSProp algorithm - momentum, gradient moving average andbias correction \n",
    "              optimizer='rmsprop',\n",
    "              metrics=['accuracy'])\n",
    "    return classifier"
   ]
  },
  {
   "cell_type": "code",
   "execution_count": 208,
   "metadata": {},
   "outputs": [],
   "source": [
    "k_model = build_sigmoid_relu_relu_NN(X_test.shape[1])"
   ]
  },
  {
   "cell_type": "code",
   "execution_count": 209,
   "metadata": {
    "scrolled": true
   },
   "outputs": [
    {
     "name": "stdout",
     "output_type": "stream",
     "text": [
      "Epoch 1/20\n",
      "2890/2890 [==============================] - 2s 565us/step - loss: 0.6396 - acc: 0.6893\n",
      "Epoch 2/20\n",
      "2890/2890 [==============================] - 0s 42us/step - loss: 0.5069 - acc: 0.7547\n",
      "Epoch 3/20\n",
      "2890/2890 [==============================] - 0s 41us/step - loss: 0.4641 - acc: 0.7785\n",
      "Epoch 4/20\n",
      "2890/2890 [==============================] - 0s 42us/step - loss: 0.4410 - acc: 0.7865\n",
      "Epoch 5/20\n",
      "2890/2890 [==============================] - 0s 42us/step - loss: 0.4110 - acc: 0.8138\n",
      "Epoch 6/20\n",
      "2890/2890 [==============================] - 0s 42us/step - loss: 0.3852 - acc: 0.8343\n",
      "Epoch 7/20\n",
      "2890/2890 [==============================] - 0s 43us/step - loss: 0.3695 - acc: 0.8349\n",
      "Epoch 8/20\n",
      "2890/2890 [==============================] - 0s 41us/step - loss: 0.3422 - acc: 0.8585\n",
      "Epoch 9/20\n",
      "2890/2890 [==============================] - 0s 42us/step - loss: 0.3252 - acc: 0.8578\n",
      "Epoch 10/20\n",
      "2890/2890 [==============================] - 0s 42us/step - loss: 0.3060 - acc: 0.8692\n",
      "Epoch 11/20\n",
      "2890/2890 [==============================] - 0s 41us/step - loss: 0.2768 - acc: 0.8889\n",
      "Epoch 12/20\n",
      "2890/2890 [==============================] - 0s 39us/step - loss: 0.2598 - acc: 0.8972\n",
      "Epoch 13/20\n",
      "2890/2890 [==============================] - 0s 43us/step - loss: 0.2393 - acc: 0.9100\n",
      "Epoch 14/20\n",
      "2890/2890 [==============================] - 0s 40us/step - loss: 0.2348 - acc: 0.9100\n",
      "Epoch 15/20\n",
      "2890/2890 [==============================] - 0s 41us/step - loss: 0.2131 - acc: 0.9173\n",
      "Epoch 16/20\n",
      "2890/2890 [==============================] - 0s 38us/step - loss: 0.1963 - acc: 0.9301\n",
      "Epoch 17/20\n",
      "2890/2890 [==============================] - 0s 38us/step - loss: 0.1858 - acc: 0.9304\n",
      "Epoch 18/20\n",
      "2890/2890 [==============================] - 0s 39us/step - loss: 0.1738 - acc: 0.9363\n",
      "Epoch 19/20\n",
      "2890/2890 [==============================] - 0s 40us/step - loss: 0.1630 - acc: 0.9408\n",
      "Epoch 20/20\n",
      "2890/2890 [==============================] - 0s 39us/step - loss: 0.1526 - acc: 0.9491\n"
     ]
    },
    {
     "data": {
      "text/plain": [
       "<keras.callbacks.History at 0x2aabf54c9c88>"
      ]
     },
     "execution_count": 209,
     "metadata": {},
     "output_type": "execute_result"
    }
   ],
   "source": [
    "k_model.fit(X_train, y_train, epochs=20, batch_size=128)"
   ]
  },
  {
   "cell_type": "code",
   "execution_count": 210,
   "metadata": {},
   "outputs": [],
   "source": [
    "y_pred_keras = k_model.predict(X_test).ravel()\n",
    "fpr_keras, tpr_keras, thresholds_keras = sklearn.metrics.roc_curve(y_test, y_pred_keras)"
   ]
  },
  {
   "cell_type": "code",
   "execution_count": 211,
   "metadata": {},
   "outputs": [
    {
     "name": "stdout",
     "output_type": "stream",
     "text": [
      "AUC IS  0.7855429986007965\n"
     ]
    }
   ],
   "source": [
    "auc_keras = sklearn.metrics.auc(fpr_keras, tpr_keras)\n",
    "print('AUC IS ', auc_keras)"
   ]
  },
  {
   "cell_type": "code",
   "execution_count": 214,
   "metadata": {},
   "outputs": [],
   "source": [
    "clf = sklearn.svm.SVC(kernel='sigmoid', probability=True, max_iter=5000)\n",
    "svm_probs = clf.fit(X_train, y_train).predict_proba(X_test)\n",
    "# Compute ROC curve and area the curve\n",
    "fpr_svm, tpr_svm, thresholds_svm = sklearn.metrics.roc_curve(y_test, svm_probs[:, 1])"
   ]
  },
  {
   "cell_type": "code",
   "execution_count": 215,
   "metadata": {},
   "outputs": [
    {
     "name": "stdout",
     "output_type": "stream",
     "text": [
      "AUC IS  0.8209148638467335\n"
     ]
    }
   ],
   "source": [
    "auc_svm = sklearn.metrics.auc(fpr_svm, tpr_svm,)\n",
    "print('AUC IS ', auc_svm)"
   ]
  },
  {
   "cell_type": "code",
   "execution_count": 217,
   "metadata": {},
   "outputs": [],
   "source": [
    "def plot_competing_ROC(fpr_keras, tpr_keras, auc_keras, fpr_svm, tpr_svm, auc_svm):\n",
    "    plt.figure(1)\n",
    "    plt.plot([0, 1], [0, 1], 'k--')\n",
    "    plt.plot(fpr_keras, tpr_keras, label='Neural Net (area = {:.3f})'.format(auc_keras))\n",
    "    plt.plot(fpr_svm, tpr_svm, label='SVM (area = {:.3f})'.format(auc_svm))\n",
    "    plt.xlabel('False positive rate')\n",
    "    plt.ylabel('True positive rate')\n",
    "    plt.title('ROC curve')\n",
    "    plt.legend(loc='best')\n",
    "    plt.show()"
   ]
  },
  {
   "cell_type": "code",
   "execution_count": 218,
   "metadata": {},
   "outputs": [
    {
     "data": {
      "image/png": "[encoded data removed]",
      "text/plain": [
       "<matplotlib.figure.Figure at 0x2aabf520f668>"
      ]
     },
     "metadata": {
      "needs_background": "light"
     },
     "output_type": "display_data"
    }
   ],
   "source": [
    "plot_competing_ROC(fpr_keras, tpr_keras, auc_keras, fpr_svm, tpr_svm, auc_svm)"
   ]
  },
  {
   "cell_type": "code",
   "execution_count": 229,
   "metadata": {},
   "outputs": [],
   "source": [
    "# load text data associated with patents\n",
    "import gzip\n",
    "import pickle\n",
    "\n",
    "TEXT_COLS =['missing_patent_abstract', 'missing_patent_title','flag_has_description_text', 'flag_has_independent_claim_text',\n",
    "            'patent_abstract', 'patent_title']\n",
    "TARGET = ['10_year_cites', '10_year_cites_top1']"
   ]
  },
  {
   "cell_type": "code",
   "execution_count": 226,
   "metadata": {},
   "outputs": [],
   "source": [
    "def load_zipped_pickle(filename):\n",
    "    # load a zipped compressed pickle file\n",
    "    with gzip.open(filename, 'rb') as f:\n",
    "        loaded_object = pickle.load(f)\n",
    "        return loaded_object\n",
    "    \n",
    "index_file = '/pool001/lraymond/patent_data/index_files/sample_pat_nums_all_numerical.gzip'\n",
    "\n",
    "valid_patents2 = load_zipped_pickle(index_file)\n",
    "\n",
    "valid_patents2 = valid_patents2.set_index('patent_number')\n",
    "\n",
    "# here is where I would add in additional pieces of textual data if I wanted\n",
    "\n",
    "v7 = pd.merge(\n",
    "    v6, valid_patents2[['patent_abstract', 'patent_title']], left_index=True, right_index=True, how='inner')\n",
    "\n",
    "del valid_patents2, txt_pats\n",
    "\n",
    "print(v6.shape)\n",
    "print(v7.shape)\n",
    "\n",
    "v8_text = v7.loc[v7.missing_patent_abstract==0, :]\n",
    "print(v8_text.shape)"
   ]
  },
  {
   "cell_type": "code",
   "execution_count": 267,
   "metadata": {},
   "outputs": [],
   "source": [
    "from imblearn.under_sampling import RandomUnderSampler\n",
    "from sklearn import model_selection\n",
    "\n",
    "rus = RandomUnderSampler(sampling_strategy=1, return_indices=True, random_state=0)\n",
    "Y_col = ['10_year_cites_top1']\n",
    "X_cols_txt = ['patent_abstract', 'patent_title']\n",
    "X_cols = [c for c in v6.columns if '_cites' not in c and c not in X_cols_txt]"
   ]
  },
  {
   "cell_type": "code",
   "execution_count": 276,
   "metadata": {},
   "outputs": [],
   "source": [
    "# note here ind is not patent numbers but indices into array\n",
    "X_resampled, y_resampled, ind = rus.fit_resample(v8_text[X_cols].as_matrix(), v8_text[Y_col].as_matrix())"
   ]
  },
  {
   "cell_type": "code",
   "execution_count": 278,
   "metadata": {},
   "outputs": [],
   "source": [
    "X_resampled_text = v8_text[['patent_abstract']].as_matrix()[ind]"
   ]
  },
  {
   "cell_type": "code",
   "execution_count": 279,
   "metadata": {},
   "outputs": [
    {
     "name": "stdout",
     "output_type": "stream",
     "text": [
      "(3854, 1) (3854, 166) (3854, 1)\n"
     ]
    }
   ],
   "source": [
    "print(X_resampled_text.shape, X_resampled.shape, y_resampled.shape)"
   ]
  },
  {
   "cell_type": "code",
   "execution_count": null,
   "metadata": {},
   "outputs": [],
   "source": [
    "X_txt = txt_pats[['patent_abstract']].as_matrix()\n",
    "Y_txt = txt_pats[Y_col[0]].as_matrix()\n",
    "\n",
    "X_train_txt, X_test_txt, y_train_txt, y_test, pat_nums_train, pat_nums_test = model_selection.train_test_split(\n",
    "    X_resampled, y_resampled, ind, random_state=0, shuffle=True)\n",
    "\n",
    "\n",
    "from sklearn.pipeline import Pipeline\n",
    "from sklearn.feature_extraction.text import TfidfTransformer, CountVectorizer\n",
    "from sklearn.svm import SVC\n",
    "\n",
    "text_clf = Pipeline([\n",
    "    ('vect', CountVectorizer()),\n",
    "     ('tfidf', TfidfTransformer()),\n",
    "    ('svc-sig', SVC(kernel='sigmoid', probability=True)),\n",
    "])\n",
    "\n",
    "\n",
    "text_clf.fit(X_train.reshape(-1,), y_train)\n",
    "\n",
    "predicted = text_clf.predict(X_test.reshape(-1,))"
   ]
  },
  {
   "cell_type": "code",
   "execution_count": null,
   "metadata": {},
   "outputs": [],
   "source": []
  }
 ],
 "metadata": {
  "kernelspec": {
   "display_name": "Python 3",
   "language": "python",
   "name": "python3"
  }
 },
 "nbformat": 4,
 "nbformat_minor": 2
}
