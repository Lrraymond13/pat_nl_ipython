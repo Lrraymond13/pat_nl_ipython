{
 "cells": [
  {
   "cell_type": "code",
   "execution_count": 1,
   "metadata": {},
   "outputs": [],
   "source": [
    "import pandas as pd\n",
    "import numpy as np\n",
    "import os\n",
    "import gzip \n",
    "import pickle"
   ]
  },
  {
   "cell_type": "code",
   "execution_count": 2,
   "metadata": {},
   "outputs": [],
   "source": [
    "# possible files with saved results\n",
    "a = '/nobackup1/lraymond/patent_data/from_local/raw_patent_nums_plus_claims.gzip'\n",
    "b = '/nobackup1/lraymond/patent_data/from_local/small_sample_raw_patent_nums_plus_claims.gzip'\n"
   ]
  },
  {
   "cell_type": "code",
   "execution_count": 3,
   "metadata": {},
   "outputs": [],
   "source": [
    "def load_zipped_pickle(filename):\n",
    "    # load a zipped compressed pickle file\n",
    "    with gzip.open(filename, 'rb') as f:\n",
    "        loaded_object = pickle.load(f)\n",
    "        return loaded_object\n",
    "    \n",
    "def save_zipped_pickle(obj, filename, protocol=-1):\n",
    "    # this will default to the highest protocol\n",
    "    with gzip.open(filename, 'wb') as f:\n",
    "        pickle.dump(obj, f, protocol)"
   ]
  },
  {
   "cell_type": "code",
   "execution_count": 4,
   "metadata": {},
   "outputs": [],
   "source": [
    "# other references colymns need to be combined\n",
    "potential = '/pool001/lraymond/patent_data/index_files/pat_nums_plus_claims.gzip'\n",
    "\n",
    "df2 = load_zipped_pickle(potential)\n",
    "\n",
    "df2 = df2.sort_values('patent_number')"
   ]
  },
  {
   "cell_type": "code",
   "execution_count": 5,
   "metadata": {},
   "outputs": [
    {
     "data": {
      "text/plain": [
       "dtype('int64')"
      ]
     },
     "execution_count": 5,
     "metadata": {},
     "output_type": "execute_result"
    }
   ],
   "source": [
    "df2['patent_number'].dtype"
   ]
  },
  {
   "cell_type": "code",
   "execution_count": 7,
   "metadata": {},
   "outputs": [],
   "source": [
    "df2[[\n",
    "    'min_reference_sequence', 'max_reference_sequence']] = df2[[\n",
    "    'min_reference_sequence', 'max_reference_sequence']].fillna(0)"
   ]
  },
  {
   "cell_type": "code",
   "execution_count": 9,
   "metadata": {},
   "outputs": [],
   "source": [
    "refs = df2[['patent_number', 'flag_has_references', 'max_reference_sequence', \n",
    "             'min_reference_sequence', 'number_references_found', 'number_journal_references',\n",
    "            'reference_source_filename']].sort_values('patent_number').drop_duplicates()"
   ]
  },
  {
   "cell_type": "code",
   "execution_count": 10,
   "metadata": {},
   "outputs": [
    {
     "data": {
      "text/html": [
       "<div>\n",
       "<style>\n",
       "    .dataframe thead tr:only-child th {\n",
       "        text-align: right;\n",
       "    }\n",
       "\n",
       "    .dataframe thead th {\n",
       "        text-align: left;\n",
       "    }\n",
       "\n",
       "    .dataframe tbody tr th {\n",
       "        vertical-align: top;\n",
       "    }\n",
       "</style>\n",
       "<table border=\"1\" class=\"dataframe\">\n",
       "  <thead>\n",
       "    <tr style=\"text-align: right;\">\n",
       "      <th></th>\n",
       "      <th>patent_number</th>\n",
       "      <th>flag_has_references</th>\n",
       "      <th>max_reference_sequence</th>\n",
       "      <th>min_reference_sequence</th>\n",
       "      <th>number_references_found</th>\n",
       "      <th>number_journal_references</th>\n",
       "      <th>reference_source_filename</th>\n",
       "    </tr>\n",
       "  </thead>\n",
       "  <tbody>\n",
       "  </tbody>\n",
       "</table>\n",
       "</div>"
      ],
      "text/plain": [
       "Empty DataFrame\n",
       "Columns: [patent_number, flag_has_references, max_reference_sequence, min_reference_sequence, number_references_found, number_journal_references, reference_source_filename]\n",
       "Index: []"
      ]
     },
     "execution_count": 10,
     "metadata": {},
     "output_type": "execute_result"
    }
   ],
   "source": [
    "mask= refs.duplicated(subset=['patent_number',\n",
    "            'reference_source_filename'], keep=False)\n",
    "refs[mask]"
   ]
  },
  {
   "cell_type": "code",
   "execution_count": 11,
   "metadata": {},
   "outputs": [],
   "source": [
    "refs_grouped = refs.groupby('patent_number').agg({\n",
    "    'flag_has_references': np.max, 'max_reference_sequence': np.max,\n",
    "    'min_reference_sequence': np.min, 'number_references_found': np.sum, \n",
    "'number_journal_references': np.sum})"
   ]
  },
  {
   "cell_type": "code",
   "execution_count": 12,
   "metadata": {},
   "outputs": [],
   "source": [
    "refs_files= refs.loc[refs.number_references_found>0,:].groupby('patent_number')['reference_source_filename'].apply(\n",
    "    lambda x: ' ; '.join(x.values))"
   ]
  },
  {
   "cell_type": "code",
   "execution_count": 13,
   "metadata": {},
   "outputs": [],
   "source": [
    "refs_info = refs_grouped.join(refs_files)"
   ]
  },
  {
   "cell_type": "code",
   "execution_count": 14,
   "metadata": {},
   "outputs": [
    {
     "name": "stdout",
     "output_type": "stream",
     "text": [
      "(199999, 5)\n",
      "(55198, 5)\n",
      "(55198,)\n",
      "(199999, 6)\n"
     ]
    }
   ],
   "source": [
    "print(refs_grouped.shape)\n",
    "print(refs_grouped.loc[refs_grouped.flag_has_references>0,:].shape)\n",
    "print(refs_files.shape)\n",
    "print(refs_info.shape)"
   ]
  },
  {
   "cell_type": "code",
   "execution_count": 15,
   "metadata": {},
   "outputs": [],
   "source": [
    "refs_info[['flag_has_references', 'max_reference_sequence',\n",
    "       'min_reference_sequence', 'number_references_found', \n",
    "          'number_journal_references']] = refs_info[['flag_has_references', 'max_reference_sequence',\n",
    "       'min_reference_sequence', 'number_references_found', \n",
    "                                                    'number_journal_references']].fillna(0)"
   ]
  },
  {
   "cell_type": "code",
   "execution_count": 16,
   "metadata": {},
   "outputs": [],
   "source": [
    "descr = df2[['patent_number', 'flag_has_description_text','description_word_count',\n",
    "         'number_description_found', 'description_source_filename']].sort_values('patent_number').drop_duplicates()\n"
   ]
  },
  {
   "cell_type": "code",
   "execution_count": 17,
   "metadata": {},
   "outputs": [
    {
     "data": {
      "text/html": [
       "<div>\n",
       "<style>\n",
       "    .dataframe thead tr:only-child th {\n",
       "        text-align: right;\n",
       "    }\n",
       "\n",
       "    .dataframe thead th {\n",
       "        text-align: left;\n",
       "    }\n",
       "\n",
       "    .dataframe tbody tr th {\n",
       "        vertical-align: top;\n",
       "    }\n",
       "</style>\n",
       "<table border=\"1\" class=\"dataframe\">\n",
       "  <thead>\n",
       "    <tr style=\"text-align: right;\">\n",
       "      <th></th>\n",
       "      <th>patent_number</th>\n",
       "      <th>flag_has_description_text</th>\n",
       "      <th>description_word_count</th>\n",
       "      <th>number_description_found</th>\n",
       "      <th>description_source_filename</th>\n",
       "    </tr>\n",
       "  </thead>\n",
       "  <tbody>\n",
       "  </tbody>\n",
       "</table>\n",
       "</div>"
      ],
      "text/plain": [
       "Empty DataFrame\n",
       "Columns: [patent_number, flag_has_description_text, description_word_count, number_description_found, description_source_filename]\n",
       "Index: []"
      ]
     },
     "execution_count": 17,
     "metadata": {},
     "output_type": "execute_result"
    }
   ],
   "source": [
    "mask= descr.duplicated(subset=['patent_number',\n",
    "            'description_source_filename'], keep=False)\n",
    "descr[mask]"
   ]
  },
  {
   "cell_type": "code",
   "execution_count": 18,
   "metadata": {},
   "outputs": [],
   "source": [
    "descr_grouped = descr.sort_values('patent_number').groupby('patent_number').agg({\n",
    "    'description_word_count': np.max, 'flag_has_description_text': np.max,\n",
    "    'number_description_found': np.sum\n",
    "})"
   ]
  },
  {
   "cell_type": "code",
   "execution_count": 19,
   "metadata": {},
   "outputs": [],
   "source": [
    "descr_files= descr.loc[descr.number_description_found>0,:].groupby('patent_number')['description_source_filename'].apply(\n",
    "    lambda x: ' ; '.join(x.values))"
   ]
  },
  {
   "cell_type": "code",
   "execution_count": 20,
   "metadata": {},
   "outputs": [],
   "source": [
    "descr_info = descr_grouped.join(descr_files)"
   ]
  },
  {
   "cell_type": "code",
   "execution_count": 21,
   "metadata": {},
   "outputs": [],
   "source": [
    "descr_info[['description_word_count', 'flag_has_description_text',\n",
    "       'number_description_found']] = descr_info[['description_word_count', 'flag_has_description_text',\n",
    "       'number_description_found']].fillna(0)"
   ]
  },
  {
   "cell_type": "code",
   "execution_count": 22,
   "metadata": {},
   "outputs": [],
   "source": [
    "df3 = df2[['patent_year', 'patent_number', '10_year_cites_top1', '10_year_cites',\n",
    "       'is_valid_patent_number', 'max_independent_claim',\n",
    "       'max_dependent_claim', 'number_independent_claims_found',\n",
    "       'number_dependent_claims_found', 'indep_claims_filenames',\n",
    "       'flag_has_dependent_claim_text', 'flag_has_independent_claim_text']].sort_values(\n",
    "            'patent_number').drop_duplicates()"
   ]
  },
  {
   "cell_type": "code",
   "execution_count": 23,
   "metadata": {},
   "outputs": [
    {
     "name": "stdout",
     "output_type": "stream",
     "text": [
      "(426465, 22)\n",
      "(199999, 12)\n",
      "(199999, 12)\n"
     ]
    }
   ],
   "source": [
    "print(df2.shape)\n",
    "print(df3.shape)\n",
    "print(df3.drop_duplicates('patent_number').shape)\n",
    "df3 = df3.set_index('patent_number')\n",
    "#descr_info = descr_info.set_index('patent_number')\n",
    "#refs_info = refs_info.set_index('patent_number')"
   ]
  },
  {
   "cell_type": "code",
   "execution_count": 24,
   "metadata": {},
   "outputs": [],
   "source": [
    "df4 = df3.join([descr_info, refs_info], how='left')"
   ]
  },
  {
   "cell_type": "code",
   "execution_count": 25,
   "metadata": {},
   "outputs": [
    {
     "name": "stdout",
     "output_type": "stream",
     "text": [
      "(199999, 21)\n"
     ]
    }
   ],
   "source": [
    "print(df4.shape)"
   ]
  },
  {
   "cell_type": "code",
   "execution_count": 26,
   "metadata": {},
   "outputs": [
    {
     "data": {
      "text/plain": [
       "patent_year                             0\n",
       "10_year_cites_top1                      0\n",
       "10_year_cites                           0\n",
       "is_valid_patent_number                  0\n",
       "max_independent_claim                   0\n",
       "max_dependent_claim                     0\n",
       "number_independent_claims_found         0\n",
       "number_dependent_claims_found           0\n",
       "indep_claims_filenames                 22\n",
       "flag_has_dependent_claim_text           0\n",
       "flag_has_independent_claim_text         0\n",
       "description_word_count                  0\n",
       "flag_has_description_text               0\n",
       "number_description_found                0\n",
       "description_source_filename         35491\n",
       "flag_has_references                     0\n",
       "max_reference_sequence                  0\n",
       "min_reference_sequence                  0\n",
       "number_references_found                 0\n",
       "number_journal_references               0\n",
       "reference_source_filename          144801\n",
       "dtype: int64"
      ]
     },
     "execution_count": 26,
     "metadata": {},
     "output_type": "execute_result"
    }
   ],
   "source": [
    "np.sum(pd.isnull(df4))"
   ]
  },
  {
   "cell_type": "code",
   "execution_count": 41,
   "metadata": {},
   "outputs": [],
   "source": [
    "df5 = df4.reset_index(drop=False)"
   ]
  },
  {
   "cell_type": "code",
   "execution_count": 42,
   "metadata": {},
   "outputs": [],
   "source": [
    "def is_valid_patent_number(patent_num):\n",
    "    '''try to convert patent number to int, flag errors'''\n",
    "    try:\n",
    "        t = int(patent_num)\n",
    "        return 1\n",
    "    except (TypeError, ValueError):\n",
    "        return 0"
   ]
  },
  {
   "cell_type": "code",
   "execution_count": 43,
   "metadata": {},
   "outputs": [],
   "source": [
    "del df5['is_valid_patent_number']\n",
    "df5['is_valid_patent_number'] = df5.patent_number.apply(is_valid_patent_number)"
   ]
  },
  {
   "cell_type": "code",
   "execution_count": 45,
   "metadata": {},
   "outputs": [
    {
     "ename": "NameError",
     "evalue": "name 'df3' is not defined",
     "output_type": "error",
     "traceback": [
      "\u001b[0;31m---------------------------------------------------------------------------\u001b[0m",
      "\u001b[0;31mNameError\u001b[0m                                 Traceback (most recent call last)",
      "\u001b[0;32m<ipython-input-45-feafe38e3d3d>\u001b[0m in \u001b[0;36m<module>\u001b[0;34m()\u001b[0m\n\u001b[1;32m      2\u001b[0m     df5, '/pool001/lraymond/patent_data/index_files/pat_nums_processing_results.gzip')\n\u001b[1;32m      3\u001b[0m \u001b[0;34m\u001b[0m\u001b[0m\n\u001b[0;32m----> 4\u001b[0;31m \u001b[0;32mdel\u001b[0m \u001b[0mdf3\u001b[0m\u001b[0;34m,\u001b[0m \u001b[0mdf2\u001b[0m\u001b[0;34m\u001b[0m\u001b[0m\n\u001b[0m",
      "\u001b[0;31mNameError\u001b[0m: name 'df3' is not defined"
     ]
    }
   ],
   "source": [
    "save_zipped_pickle(\n",
    "    df5, '/pool001/lraymond/patent_data/index_files/pat_nums_processing_results.gzip')\n",
    "\n",
    "del df3, df2 "
   ]
  },
  {
   "cell_type": "code",
   "execution_count": null,
   "metadata": {},
   "outputs": [],
   "source": [
    " df5 = load_zipped_pickle(\n",
    "    '/pool001/lraymond/patent_data/index_files/pat_nums_processing_results.gzip')"
   ]
  },
  {
   "cell_type": "code",
   "execution_count": 48,
   "metadata": {},
   "outputs": [
    {
     "data": {
      "text/plain": [
       "patent_number                           0\n",
       "patent_year                             0\n",
       "10_year_cites_top1                      0\n",
       "10_year_cites                           0\n",
       "max_independent_claim                   0\n",
       "max_dependent_claim                     0\n",
       "number_independent_claims_found         0\n",
       "number_dependent_claims_found           0\n",
       "indep_claims_filenames                 22\n",
       "flag_has_dependent_claim_text           0\n",
       "flag_has_independent_claim_text         0\n",
       "description_word_count                  0\n",
       "flag_has_description_text               0\n",
       "number_description_found                0\n",
       "description_source_filename         35491\n",
       "flag_has_references                     0\n",
       "max_reference_sequence                  0\n",
       "min_reference_sequence                  0\n",
       "number_references_found                 0\n",
       "number_journal_references               0\n",
       "reference_source_filename          144801\n",
       "is_valid_patent_number                  0\n",
       "dtype: int64"
      ]
     },
     "execution_count": 48,
     "metadata": {},
     "output_type": "execute_result"
    }
   ],
   "source": [
    "# df5.dtypes\n",
    "np.sum(pd.isnull(df5))"
   ]
  },
  {
   "cell_type": "code",
   "execution_count": 49,
   "metadata": {},
   "outputs": [
    {
     "name": "stderr",
     "output_type": "stream",
     "text": [
      "/home/software/sloan/local/lib/py36/IPython/core/interactiveshell.py:2785: DtypeWarning: Columns (9) have mixed types. Specify dtype option on import or set low_memory=False.\n",
      "  interactivity=interactivity, compiler=compiler, result=result)\n"
     ]
    }
   ],
   "source": [
    "index_file = '/pool001/lraymond/patent_data/index_files/pat_nums_index.csv'\n",
    "\n",
    "pats_index = pd.read_csv(index_file)\n",
    "pats_index = pats_index.sort_values('patent_number')"
   ]
  },
  {
   "cell_type": "code",
   "execution_count": 55,
   "metadata": {},
   "outputs": [],
   "source": [
    "pats_index[['10_year_cites_rank',\n",
    "'15_year_cites_rank',\n",
    "'20_year_cites_rank',        \n",
    "'30_year_cites_rank',            \n",
    "'5_year_cites_rank']] = pats_index[['10_year_cites_rank',\n",
    "'15_year_cites_rank',\n",
    "'20_year_cites_rank',        \n",
    "'30_year_cites_rank',            \n",
    "'5_year_cites_rank']].fillna(0)"
   ]
  },
  {
   "cell_type": "code",
   "execution_count": 33,
   "metadata": {},
   "outputs": [
    {
     "name": "stdout",
     "output_type": "stream",
     "text": [
      "(1994958, 59)\n",
      "(1994958, 59)\n"
     ]
    }
   ],
   "source": [
    "print(pats_index.drop_duplicates('patent_number').shape)\n",
    "print(pats_index.drop_duplicates().shape)"
   ]
  },
  {
   "cell_type": "code",
   "execution_count": 56,
   "metadata": {},
   "outputs": [
    {
     "data": {
      "text/plain": [
       "10_year_cites                                 0\n",
       "15_year_cites                                 0\n",
       "20_year_cites                                 0\n",
       "30_year_cites                                 0\n",
       "5_year_cites                                  0\n",
       "assignee_is_company                           0\n",
       "assignee_is_gov                               0\n",
       "assignee_is_ind                               0\n",
       "forprior_country                        1987744\n",
       "forprior_date                           1988144\n",
       "inventor_total_num_patents                    0\n",
       "lawyer_organization                      986064\n",
       "lawyer_total_num_assignees                    0\n",
       "lawyer_total_num_inventors                    0\n",
       "lawyer_total_num_patents                      0\n",
       "nber_category_id                              0\n",
       "nber_subcategory_id                           0\n",
       "number_apps                                   0\n",
       "number_assignees                              0\n",
       "number_assistant_examiners                    0\n",
       "number_examiners                              0\n",
       "number_forprior                               0\n",
       "number_govint                                 0\n",
       "number_inventors                              0\n",
       "number_lawyers                                0\n",
       "number_primary_examiners                      0\n",
       "patent_abstract                             369\n",
       "patent_date                                   0\n",
       "patent_firstnamed_assignee_country       348483\n",
       "patent_firstnamed_assignee_state         349936\n",
       "patent_firstnamed_inventor_country            0\n",
       "patent_firstnamed_inventor_state            297\n",
       "patent_num_cited_by_us_patents                0\n",
       "patent_num_combined_citations                 0\n",
       "patent_num_foreign_citations                  0\n",
       "patent_num_us_application_citations           0\n",
       "patent_num_us_patent_citations                0\n",
       "patent_number                                 0\n",
       "patent_title                                 36\n",
       "patent_year                                   0\n",
       "10_year_cites_rank                            0\n",
       "10_year_cites_top1                            0\n",
       "15_year_cites_rank                            0\n",
       "15_year_cites_top1                            0\n",
       "20_year_cites_rank                            0\n",
       "20_year_cites_top1                            0\n",
       "30_year_cites_rank                            0\n",
       "30_year_cites_top1                            0\n",
       "5_year_cites_rank                             0\n",
       "5_year_cites_top1                             0\n",
       "flag_has_forprior                             0\n",
       "patent_firstnamed_assignee_latitude      348483\n",
       "patent_firstnamed_assignee_longitude     348483\n",
       "patent_firstnamed_inventor_latitude           0\n",
       "patent_firstnamed_inventor_longitude          0\n",
       "missing_citations_made                        0\n",
       "missing_patent_abstract                       0\n",
       "missing_patent_title                          0\n",
       "is_valid_patent_number                        0\n",
       "dtype: int64"
      ]
     },
     "execution_count": 56,
     "metadata": {},
     "output_type": "execute_result"
    }
   ],
   "source": [
    "# check for null values\n",
    "np.sum(pd.isnull(pats_index))"
   ]
  },
  {
   "cell_type": "code",
   "execution_count": 80,
   "metadata": {},
   "outputs": [],
   "source": [
    "#pats_index = pats_index.reset_index('patent_number')"
   ]
  },
  {
   "cell_type": "code",
   "execution_count": 87,
   "metadata": {},
   "outputs": [],
   "source": [
    "a = sorted(pats_index.patent_number.values)\n",
    "b = sorted(df5.patent_number.values)"
   ]
  },
  {
   "cell_type": "code",
   "execution_count": 88,
   "metadata": {},
   "outputs": [
    {
     "name": "stdout",
     "output_type": "stream",
     "text": [
      "1994958\n",
      "199999\n",
      "188672\n",
      "1806286\n",
      "11327\n"
     ]
    }
   ],
   "source": [
    "print(len(a))\n",
    "print(len(b))\n",
    "print(len(set(a).intersection(set(b))))\n",
    "print(len(set(a).difference(set(b))))\n",
    "print(len(set(b).difference(set(a))))"
   ]
  },
  {
   "cell_type": "code",
   "execution_count": 76,
   "metadata": {},
   "outputs": [],
   "source": [
    "newl = [x for x in a if ((x>4490856) & (x<4490901))]"
   ]
  },
  {
   "cell_type": "code",
   "execution_count": 89,
   "metadata": {},
   "outputs": [],
   "source": [
    "# combine numerical attributes to claims processing\n",
    "ind2 = pats_index.merge(df5[['description_source_filename',\n",
    " 'description_word_count',\n",
    " 'flag_has_dependent_claim_text',\n",
    " 'flag_has_description_text',\n",
    " 'flag_has_independent_claim_text',\n",
    " 'flag_has_references',\n",
    " 'indep_claims_filenames',\n",
    " 'max_dependent_claim',\n",
    " 'max_independent_claim',\n",
    " 'max_reference_sequence',\n",
    " 'min_reference_sequence',\n",
    " 'number_dependent_claims_found',\n",
    " 'number_description_found',\n",
    "  'number_journal_references',\n",
    " 'number_independent_claims_found',\n",
    " 'number_references_found', 'patent_number']], \n",
    "                       how='inner', on='patent_number')"
   ]
  },
  {
   "cell_type": "code",
   "execution_count": 90,
   "metadata": {},
   "outputs": [
    {
     "name": "stdout",
     "output_type": "stream",
     "text": [
      "(199999, 21)\n",
      "(1994958, 59)\n",
      "(188672, 75)\n"
     ]
    }
   ],
   "source": [
    "print(df4.shape)\n",
    "print(pats_index.shape)\n",
    "print(ind2.shape)"
   ]
  },
  {
   "cell_type": "code",
   "execution_count": 91,
   "metadata": {},
   "outputs": [],
   "source": [
    "save_zipped_pickle(ind2, '/pool001/lraymond/patent_data/index_files/sample_pat_nums_all_numerical.gzip')"
   ]
  },
  {
   "cell_type": "code",
   "execution_count": null,
   "metadata": {},
   "outputs": [],
   "source": []
  },
  {
   "cell_type": "code",
   "execution_count": null,
   "metadata": {},
   "outputs": [],
   "source": []
  }
 ],
 "metadata": {
  "kernelspec": {
   "display_name": "Python 3",
   "language": "python",
   "name": "python3"
  },
  "language_info": {
   "codemirror_mode": {
    "name": "ipython",
    "version": 3
   },
   "file_extension": ".py",
   "mimetype": "text/x-python",
   "name": "python",
   "nbconvert_exporter": "python",
   "pygments_lexer": "ipython3",
   "version": "3.6.3"
  }
 },
 "nbformat": 4,
 "nbformat_minor": 2
}
