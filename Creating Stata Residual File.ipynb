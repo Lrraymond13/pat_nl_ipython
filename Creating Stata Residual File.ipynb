{
 "cells": [
  {
   "cell_type": "code",
   "execution_count": 3,
   "metadata": {},
   "outputs": [],
   "source": [
    "import numpy as np\n",
    "import pandas as pd\n",
    "import os\n",
    "import gzip\n",
    "import pickle"
   ]
  },
  {
   "cell_type": "code",
   "execution_count": 5,
   "metadata": {},
   "outputs": [],
   "source": [
    "def load_zipped_pickle(filename):\n",
    "    # load a zipped compressed pickle file\n",
    "    with gzip.open(filename, 'rb') as f:\n",
    "        loaded_object = pickle.load(f)\n",
    "        return loaded_object\n",
    "    \n",
    "def save_zipped_pickle(obj, filename, protocol=-1):\n",
    "    # this will default to the highest protocol\n",
    "    with gzip.open(filename, 'wb') as f:\n",
    "        pickle.dump(obj, f, protocol)"
   ]
  },
  {
   "cell_type": "code",
   "execution_count": 2,
   "metadata": {},
   "outputs": [],
   "source": [
    "scores = pd.read_pickle('/pool001/lraymond/processed_data/scored_dfs/scored_SVM.p')"
   ]
  },
  {
   "cell_type": "code",
   "execution_count": 26,
   "metadata": {},
   "outputs": [
    {
     "data": {
      "text/plain": [
       "dtype('int64')"
      ]
     },
     "execution_count": 26,
     "metadata": {},
     "output_type": "execute_result"
    }
   ],
   "source": [
    "v3.patent_number.dtype"
   ]
  },
  {
   "cell_type": "code",
   "execution_count": 13,
   "metadata": {},
   "outputs": [
    {
     "name": "stderr",
     "output_type": "stream",
     "text": [
      "/home/software/sloan/local/lib/py36/IPython/core/interactiveshell.py:2785: DtypeWarning: Columns (9) have mixed types. Specify dtype option on import or set low_memory=False.\n",
      "  interactivity=interactivity, compiler=compiler, result=result)\n"
     ]
    }
   ],
   "source": [
    "index_file = '/pool001/lraymond/patent_data/index_files/pat_nums_index.csv'\n",
    "\n",
    "# v2 = load_zipped_pickle(index_file)\n",
    "v2 = pd.read_csv(index_file)"
   ]
  },
  {
   "cell_type": "code",
   "execution_count": 24,
   "metadata": {},
   "outputs": [],
   "source": [
    "intersect = set(sorted(v2.columns)).intersection(set(scores.columns))\n",
    "to_exclude = list(intersect) + ['patent_abstract', 'patent_title', 'is_valid_patent_number']"
   ]
  },
  {
   "cell_type": "code",
   "execution_count": 25,
   "metadata": {},
   "outputs": [],
   "source": [
    "v3 = v2[[c for c in v2.columns if c not in to_exclude]]"
   ]
  },
  {
   "cell_type": "code",
   "execution_count": 28,
   "metadata": {},
   "outputs": [],
   "source": [
    "v4 = scores.merge(v3, left_index=True, right_on='patent_number', how='inner')"
   ]
  },
  {
   "cell_type": "code",
   "execution_count": 29,
   "metadata": {},
   "outputs": [
    {
     "name": "stdout",
     "output_type": "stream",
     "text": [
      "(188672, 310)\n",
      "(188672, 275)\n"
     ]
    }
   ],
   "source": [
    "print(v4.shape)\n",
    "print(scores.shape)"
   ]
  },
  {
   "cell_type": "code",
   "execution_count": 30,
   "metadata": {},
   "outputs": [
    {
     "name": "stderr",
     "output_type": "stream",
     "text": [
      "/home/software/sloan/local/lib/py36/pandas/io/stata.py:2070: InvalidColumnName: \n",
      "Not all pandas column names were valid Stata variable names.\n",
      "The following replacements have been made:\n",
      "\n",
      "    b'cat_nber_2.0'   ->   cat_nber_2_0\n",
      "    b'cat_nber_3.0'   ->   cat_nber_3_0\n",
      "    b'cat_nber_4.0'   ->   cat_nber_4_0\n",
      "    b'cat_nber_5.0'   ->   cat_nber_5_0\n",
      "    b'cat_nber_6.0'   ->   cat_nber_6_0\n",
      "    b'cat_nber_7.0'   ->   cat_nber_7_0\n",
      "    b'cat_i_country_San Francisco'   ->   cat_i_country_San_Francisco\n",
      "    b'cat_i_state_San Francisco'   ->   cat_i_state_San_Francisco\n",
      "    b'cat_grant_year_1986.0'   ->   cat_grant_year_1986_0\n",
      "    b'cat_grant_year_1987.0'   ->   cat_grant_year_1987_0\n",
      "    b'cat_grant_year_1988.0'   ->   cat_grant_year_1988_0\n",
      "    b'cat_grant_year_1989.0'   ->   cat_grant_year_1989_0\n",
      "    b'cat_grant_year_1990.0'   ->   cat_grant_year_1990_0\n",
      "    b'cat_grant_year_1991.0'   ->   cat_grant_year_1991_0\n",
      "    b'cat_grant_year_1992.0'   ->   cat_grant_year_1992_0\n",
      "    b'cat_grant_year_1994.0'   ->   cat_grant_year_1994_0\n",
      "    b'cat_grant_year_1995.0'   ->   cat_grant_year_1995_0\n",
      "    b'cat_grant_year_1996.0'   ->   cat_grant_year_1996_0\n",
      "    b'cat_grant_year_1997.0'   ->   cat_grant_year_1997_0\n",
      "    b'cat_grant_year_1998.0'   ->   cat_grant_year_1998_0\n",
      "    b'cat_grant_year_1999.0'   ->   cat_grant_year_1999_0\n",
      "    b'10_year_cites'   ->   _10_year_cites\n",
      "    b'10_year_cites_top1'   ->   _10_year_cites_top1\n",
      "    b'15_year_cites'   ->   _15_year_cites\n",
      "    b'20_year_cites'   ->   _20_year_cites\n",
      "    b'30_year_cites'   ->   _30_year_cites\n",
      "    b'5_year_cites'   ->   _5_year_cites\n",
      "    b'patent_firstnamed_assignee_country'   ->   patent_firstnamed_assignee_count\n",
      "    b'patent_firstnamed_inventor_country'   ->   patent_firstnamed_inventor_count\n",
      "    b'patent_num_us_application_citations'   ->   patent_num_us_application_citati\n",
      "    b'10_year_cites_rank'   ->   _10_year_cites_rank\n",
      "    b'15_year_cites_rank'   ->   _15_year_cites_rank\n",
      "    b'15_year_cites_top1'   ->   _15_year_cites_top1\n",
      "    b'20_year_cites_rank'   ->   _20_year_cites_rank\n",
      "    b'20_year_cites_top1'   ->   _20_year_cites_top1\n",
      "    b'30_year_cites_rank'   ->   _30_year_cites_rank\n",
      "    b'30_year_cites_top1'   ->   _30_year_cites_top1\n",
      "    b'5_year_cites_rank'   ->   _5_year_cites_rank\n",
      "    b'5_year_cites_top1'   ->   _5_year_cites_top1\n",
      "    b'patent_firstnamed_assignee_latitude'   ->   patent_firstnamed_assignee_latit\n",
      "    b'patent_firstnamed_assignee_longitude'   ->   patent_firstnamed_assignee_longi\n",
      "    b'patent_firstnamed_inventor_latitude'   ->   patent_firstnamed_inventor_latit\n",
      "    b'patent_firstnamed_inventor_longitude'   ->   patent_firstnamed_inventor_longi\n",
      "\n",
      "If this is not what you expect, please make sure you have Stata-compliant\n",
      "column names in your DataFrame (strings only, max 32 characters, only\n",
      "alphanumerics and underscores, no Stata reserved words)\n",
      "\n",
      "  warnings.warn(ws, InvalidColumnName)\n"
     ]
    }
   ],
   "source": [
    "v4.to_stata('/pool001/lraymond/processed_data/scored_dfs/scored_SVM_for_stata.dta')"
   ]
  },
  {
   "cell_type": "code",
   "execution_count": null,
   "metadata": {},
   "outputs": [],
   "source": []
  }
 ],
 "metadata": {
  "kernelspec": {
   "display_name": "Python 3",
   "language": "python",
   "name": "python3"
  },
  "language_info": {
   "codemirror_mode": {
    "name": "ipython",
    "version": 3
   },
   "file_extension": ".py",
   "mimetype": "text/x-python",
   "name": "python",
   "nbconvert_exporter": "python",
   "pygments_lexer": "ipython3",
   "version": "3.6.3"
  }
 },
 "nbformat": 4,
 "nbformat_minor": 2
}
