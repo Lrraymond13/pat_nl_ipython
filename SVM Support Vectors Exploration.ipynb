{
 "cells": [
  {
   "cell_type": "code",
   "execution_count": null,
   "metadata": {},
   "outputs": [],
   "source": [
    "import pickle\n",
    "import json\n",
    "import funcy\n",
    "import csv\n",
    "import os\n",
    "import gzip\n",
    "import pandas as pd\n",
    "import numpy as np\n",
    "import imblearn\n",
    "\n",
    "import sklearn\n",
    "# from sklearn.svm import LinearSVC\n",
    "from sklearn.linear_model import LogisticRegression\n",
    "from sklearn import preprocessing\n",
    "from sklearn import svm\n",
    "# from sklearn.feature_extraction.text import TfidfVectorizer\n",
    "# from sklearn.naive_bayes import MultinomialNB\n",
    "# from sklearn.pipeline import make_pipeline\n",
    "import scipy\n",
    "\n",
    "import imblearn\n",
    "from imblearn.under_sampling import RandomUnderSampler\n",
    "# #from imblearn.pipeline import make_pipeline as make_pipeline_imb\n",
    "# from imblearn.metrics import classification_report_imbalanced\n",
    "\n",
    "import matplotlib.pyplot as plt "
   ]
  },
  {
   "cell_type": "code",
   "execution_count": null,
   "metadata": {},
   "outputs": [],
   "source": [
    "v6 = pd.read_pickle(\n",
    "    '/pool001/lraymond/processed_data/pre_analysis_dfs/standardized_linear_classifier_df.p')"
   ]
  },
  {
   "cell_type": "code",
   "execution_count": null,
   "metadata": {},
   "outputs": [],
   "source": [
    "v6['10_year_cites_top1'].describe()"
   ]
  },
  {
   "cell_type": "code",
   "execution_count": null,
   "metadata": {},
   "outputs": [],
   "source": [
    "print(v6.shape)"
   ]
  },
  {
   "cell_type": "code",
   "execution_count": 13,
   "metadata": {},
   "outputs": [
    {
     "data": {
      "image/png": "[encoded data removed]",
      "text/plain": [
       "<matplotlib.figure.Figure at 0x2aab5f516e48>"
      ]
     },
     "metadata": {
      "needs_background": "light"
     },
     "output_type": "display_data"
    }
   ],
   "source": [
    "# plotting distrubution information\n",
    "v6['10_year_cites'].hist(bins=1000)\n",
    "plt.xlabel('10 year citations')\n",
    "plt.ylabel('Freq')\n",
    "plt.title('Histogram of 10 yr Citations')\n",
    "plt.grid(True)\n",
    "plt.ylim(0, 10000)\n",
    "\n",
    "plt.show()\n",
    "\n",
    "color = {'boxes': 'DarkGreen', 'whiskers': 'DarkOrange',\n",
    "             'medians': 'DarkBlue', 'caps': 'Gray'}\n",
    "v6['10_year_cites'].plot.box(vert=False, color=color)\n",
    "plt.title('Details on Max/Min of 10 yr Citations')\n",
    "plt.show()"
   ]
  },
  {
   "cell_type": "code",
   "execution_count": 28,
   "metadata": {},
   "outputs": [],
   "source": [
    "descr = v6['10_year_cites'].describe(percentiles=[.25, .5, .75, .85, .9])\n",
    "\n",
    "print(descr)\n",
    "\n",
    "# create a couple other classification categories to run the SVM on\n",
    "v6['10_year_cites_top10'] = (v6['10_year_cites']>= descr['90%']).astype(int)\n",
    "\n",
    "v6['10_year_cites_top10'].describe()\n",
    "\n",
    "# create a couple other classification categories to run the SVM on\n",
    "v6['10_year_cites_top50'] = (v6['10_year_cites']>= descr['50%']).astype(int)\n",
    "\n",
    "v6['10_year_cites_top50'].describe()\n",
    "\n",
    "v6['10_year_cites_top75'] = (v6['10_year_cites'] >= descr['25%']).astype(int)\n",
    "\n",
    "# note there are a lot of patents that get 2 so choice of greater than or greater than equal matters alot\n",
    "v6['10_year_cites_top75'].describe()\n",
    "\n",
    "v6['10_year_cites_above0'] = (v6['10_year_cites'] > 0).astype(int)\n",
    "\n",
    "v6['10_year_cites_above0'].describe()\n",
    "\n",
    "additional_margins = [ ('10_year_cites_above0', 'SVM_morethan0_vs1'),\n",
    "                        ('10_year_cites_top50', 'SVM_top50vs_rest',), \n",
    "                      # ('10_year_cites_top75', 'SVM_top75vs_rest'),\n",
    "                        ('10_year_cites_top10', 'SVM_top10vs_rest')\n",
    "                     ]"
   ]
  },
  {
   "cell_type": "code",
   "execution_count": 39,
   "metadata": {},
   "outputs": [
    {
     "name": "stdout",
     "output_type": "stream",
     "text": [
      "test\n"
     ]
    }
   ],
   "source": [
    "print('test')"
   ]
  },
  {
   "cell_type": "code",
   "execution_count": null,
   "metadata": {},
   "outputs": [
    {
     "name": "stdout",
     "output_type": "stream",
     "text": [
      "10_year_cites_above0\n",
      "(188672, 272)\n",
      "(188672,)\n",
      "(188672, 278)\n",
      "0.925897854477612\n",
      "(27962, 272) (27962,) 0.5\n",
      "0.5\n"
     ]
    }
   ],
   "source": [
    "for output_col, classifier_name in additional_margins:\n",
    "    print(output_col)\n",
    "    # Y_col = ['10_year_cites_top1']\n",
    "    Y_col = output_col\n",
    "    X_cols = [c for c in v6.columns if '_cites' not in c]\n",
    "\n",
    "    # print(sorted(X_cols))\n",
    "    rus = RandomUnderSampler(sampling_strategy=1, return_indices=True, random_state=0)\n",
    "    \n",
    "    \n",
    "    # If I want to control to contrast group, I select on the 10 year cites values column\n",
    "    # print(np.any(np.logical_and(mask_control, mask_target)))\n",
    "\n",
    "    X = v6[X_cols].as_matrix()\n",
    "    Y = v6[Y_col]\n",
    "\n",
    "    # want y to be a 1d object \n",
    "    print(X.shape)\n",
    "    print(Y.shape)\n",
    "    print(v6.shape)\n",
    "    print(Y.mean())\n",
    "    \n",
    "    # (X[ind]==X_resampled).all() should be True\n",
    "    X_resampled, y_resampled, ind = rus.fit_resample(X, Y)\n",
    "    print(X_resampled.shape, y_resampled.shape, y_resampled.mean())\n",
    "    \n",
    "    X_train, X_test, y_train, y_test, pat_nums_train, pat_nums_test = sklearn.model_selection.train_test_split(\n",
    "    X_resampled, y_resampled, ind, random_state=0, shuffle=True)\n",
    "    \n",
    "    # added a max iter argument because things were taking a really long time to converge\n",
    "    clf = svm.SVC(kernel='sigmoid', probability=True, max_iter=5000)\n",
    "    \n",
    "    tprs = []\n",
    "    aucs = []\n",
    "    i = 0\n",
    "    mean_fpr = np.linspace(0, 1, 100)\n",
    "    cv = sklearn.model_selection.StratifiedKFold(n_splits=8)\n",
    "\n",
    "    for train, test in cv.split(X_resampled, y_resampled):\n",
    "        print(y_resampled[train].mean())\n",
    "        probas_ = clf.fit(X_resampled[train], y_resampled[train]).predict_proba(X_resampled[test])\n",
    "        # Compute ROC curve and area the curve\n",
    "        fpr, tpr, thresholds = sklearn.metrics.roc_curve(y_resampled[test], probas_[:, 1])\n",
    "        tprs.append(scipy.interp(mean_fpr, fpr, tpr))\n",
    "        tprs[-1][0] = 0.0\n",
    "        roc_auc = sklearn.metrics.auc(fpr, tpr)\n",
    "        aucs.append(roc_auc)\n",
    "        plt.plot(fpr, tpr, lw=1, alpha=0.3,\n",
    "            label='ROC fold %d (AUC = %0.2f)' % (i, roc_auc))\n",
    "\n",
    "        i += 1\n",
    "    # classifier_name = 'SVM_below25'\n",
    "    print(classifier_name)\n",
    "    mean_fpr = np.linspace(0, 1, 100)\n",
    "    plt.plot([0, 1], [0, 1], linestyle='--', lw=2, color='r',\n",
    "         label='Chance', alpha=.8)\n",
    "\n",
    "    mean_tpr = np.mean(tprs, axis=0)\n",
    "    mean_tpr[-1] = 1.0\n",
    "    mean_auc = sklearn.metrics.auc(mean_fpr, mean_tpr)\n",
    "    std_auc = np.std(aucs)\n",
    "    plt.plot(mean_fpr, mean_tpr, color='b',\n",
    "         label=r'Mean ROC (AUC = %0.2f $\\pm$ %0.2f)' % (mean_auc, std_auc),\n",
    "         lw=2, alpha=.8)\n",
    "\n",
    "    std_tpr = np.std(tprs, axis=0)\n",
    "    tprs_upper = np.minimum(mean_tpr + std_tpr, 1)\n",
    "    tprs_lower = np.maximum(mean_tpr - std_tpr, 0)\n",
    "    plt.fill_between(mean_fpr, tprs_lower, tprs_upper, color='grey', alpha=.2,\n",
    "                 label=r'$\\pm$ 1 std. dev.')\n",
    "\n",
    "    plt.xlim([-0.05, 1.05])\n",
    "    plt.ylim([-0.05, 1.05])\n",
    "    plt.xlabel('False Positive Rate')\n",
    "    plt.ylabel('True Positive Rate')\n",
    "    plt.title('Receiver operating characteristic {}'.format(classifier_name))\n",
    "    plt.legend(loc=\"lower right\")\n",
    "    plt.savefig('/home/lraymond/plots/{}.png'.format(classifier_name))\n",
    "    plt.show()\n",
    "    \n"
   ]
  },
  {
   "cell_type": "code",
   "execution_count": null,
   "metadata": {},
   "outputs": [],
   "source": [
    "\n",
    "\n",
    "# # Train the classifier with balancing\n",
    "# clf.fit(X_train, y_train)\n",
    "\n",
    "# # Test the classifier and get the prediction\n",
    "# y_pred_bal = clf.predict(X_test)\n",
    "# y_pred = clf.predict_proba(X_test)\n",
    "# y_pred_probs = y_pred[:,1]"
   ]
  },
  {
   "cell_type": "code",
   "execution_count": null,
   "metadata": {},
   "outputs": [],
   "source": [
    "\n",
    "    "
   ]
  },
  {
   "cell_type": "code",
   "execution_count": null,
   "metadata": {},
   "outputs": [],
   "source": []
  },
  {
   "cell_type": "code",
   "execution_count": null,
   "metadata": {},
   "outputs": [],
   "source": []
  },
  {
   "cell_type": "code",
   "execution_count": null,
   "metadata": {},
   "outputs": [],
   "source": []
  }
 ],
 "metadata": {
  "kernelspec": {
   "display_name": "Python 3",
   "language": "python",
   "name": "python3"
  },
  "language_info": {
   "codemirror_mode": {
    "name": "ipython",
    "version": 3
   },
   "file_extension": ".py",
   "mimetype": "text/x-python",
   "name": "python",
   "nbconvert_exporter": "python",
   "pygments_lexer": "ipython3",
   "version": "3.6.3"
  }
 },
 "nbformat": 4,
 "nbformat_minor": 2
}
