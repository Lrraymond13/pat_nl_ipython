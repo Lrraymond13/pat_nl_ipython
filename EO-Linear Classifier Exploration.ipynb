{
 "cells": [
  {
   "cell_type": "code",
   "execution_count": 1,
   "metadata": {},
   "outputs": [],
   "source": [
    "import concurrent\n",
    "import pickle\n",
    "import json\n",
    "import funcy\n",
    "import csv\n",
    "import os\n",
    "import gzip\n",
    "import pandas as pd\n",
    "import numpy as np\n",
    "import imblearn\n",
    "\n",
    "import sklearn\n",
    "# from sklearn.svm import LinearSVC\n",
    "from sklearn.linear_model import LogisticRegression\n",
    "from sklearn import preprocessing\n",
    "# from sklearn.feature_extraction.text import TfidfVectorizer\n",
    "# from sklearn.naive_bayes import MultinomialNB\n",
    "# from sklearn.pipeline import make_pipeline\n",
    "\n",
    "import imblearn\n",
    "from imblearn.under_sampling import RandomUnderSampler\n",
    "# #from imblearn.pipeline import make_pipeline as make_pipeline_imb\n",
    "# from imblearn.metrics import classification_report_imbalanced\n",
    "\n",
    "import matplotlib.pyplot as plt "
   ]
  },
  {
   "cell_type": "code",
   "execution_count": 2,
   "metadata": {},
   "outputs": [],
   "source": [
    "\n",
    "import sklearn\n",
    "# from sklearn.svm import LinearSVC\n",
    "from sklearn.linear_model import LogisticRegression\n",
    "from sklearn import preprocessing\n",
    "# from sklearn.feature_extraction.text import TfidfVectorizer\n",
    "# from sklearn.naive_bayes import MultinomialNB\n",
    "# from sklearn.pipeline import make_pipeline\n",
    "\n",
    "\n",
    "from imblearn.under_sampling import RandomUnderSampler\n",
    "# #from imblearn.pipeline import make_pipeline as make_pipeline_imb\n",
    "# from imblearn.metrics import classification_report_imbalanced\n",
    "import pandas_ml as pdml"
   ]
  },
  {
   "cell_type": "code",
   "execution_count": 3,
   "metadata": {},
   "outputs": [],
   "source": [
    "def load_zipped_pickle(filename):\n",
    "    # load a zipped compressed pickle file\n",
    "    with gzip.open(filename, 'rb') as f:\n",
    "        loaded_object = pickle.load(f)\n",
    "        return loaded_object\n",
    "    \n",
    "def save_zipped_pickle(obj, filename, protocol=-1):\n",
    "    # this will default to the highest protocol\n",
    "    with gzip.open(filename, 'wb') as f:\n",
    "        pickle.dump(obj, f, protocol)"
   ]
  },
  {
   "cell_type": "code",
   "execution_count": 4,
   "metadata": {},
   "outputs": [],
   "source": [
    "index_file = '/pool001/lraymond/patent_data/index_files/sample_pat_nums_all_numerical.gzip'\n",
    "\n",
    "valid_patents2 = load_zipped_pickle(index_file)"
   ]
  },
  {
   "cell_type": "code",
   "execution_count": 5,
   "metadata": {},
   "outputs": [
    {
     "data": {
      "text/html": [
       "<div>\n",
       "<style>\n",
       "    .dataframe thead tr:only-child th {\n",
       "        text-align: right;\n",
       "    }\n",
       "\n",
       "    .dataframe thead th {\n",
       "        text-align: left;\n",
       "    }\n",
       "\n",
       "    .dataframe tbody tr th {\n",
       "        vertical-align: top;\n",
       "    }\n",
       "</style>\n",
       "<table border=\"1\" class=\"dataframe\">\n",
       "  <thead>\n",
       "    <tr style=\"text-align: right;\">\n",
       "      <th></th>\n",
       "      <th>flag_has_dependent_claim_text</th>\n",
       "      <th>flag_has_description_text</th>\n",
       "      <th>flag_has_independent_claim_text</th>\n",
       "      <th>flag_has_references</th>\n",
       "      <th>max_dependent_claim</th>\n",
       "      <th>max_independent_claim</th>\n",
       "      <th>max_reference_sequence</th>\n",
       "      <th>min_reference_sequence</th>\n",
       "      <th>number_dependent_claims_found</th>\n",
       "      <th>number_description_found</th>\n",
       "      <th>number_independent_claims_found</th>\n",
       "      <th>number_journal_references</th>\n",
       "      <th>number_references_found</th>\n",
       "    </tr>\n",
       "  </thead>\n",
       "  <tbody>\n",
       "    <tr>\n",
       "      <th>count</th>\n",
       "      <td>188672.0</td>\n",
       "      <td>188672.000000</td>\n",
       "      <td>188672.000000</td>\n",
       "      <td>188672.000000</td>\n",
       "      <td>188672.0</td>\n",
       "      <td>188672.000000</td>\n",
       "      <td>188672.000000</td>\n",
       "      <td>188672.0</td>\n",
       "      <td>188672.0</td>\n",
       "      <td>188672.000000</td>\n",
       "      <td>188672.000000</td>\n",
       "      <td>188672.000000</td>\n",
       "      <td>188672.000000</td>\n",
       "    </tr>\n",
       "    <tr>\n",
       "      <th>mean</th>\n",
       "      <td>0.0</td>\n",
       "      <td>0.822804</td>\n",
       "      <td>0.999905</td>\n",
       "      <td>0.275070</td>\n",
       "      <td>0.0</td>\n",
       "      <td>15.024142</td>\n",
       "      <td>1.581666</td>\n",
       "      <td>0.0</td>\n",
       "      <td>0.0</td>\n",
       "      <td>0.833701</td>\n",
       "      <td>15.021916</td>\n",
       "      <td>1.425707</td>\n",
       "      <td>1.856105</td>\n",
       "    </tr>\n",
       "    <tr>\n",
       "      <th>std</th>\n",
       "      <td>0.0</td>\n",
       "      <td>0.381836</td>\n",
       "      <td>0.009767</td>\n",
       "      <td>0.446551</td>\n",
       "      <td>0.0</td>\n",
       "      <td>12.052538</td>\n",
       "      <td>8.294750</td>\n",
       "      <td>0.0</td>\n",
       "      <td>0.0</td>\n",
       "      <td>0.400548</td>\n",
       "      <td>12.052292</td>\n",
       "      <td>7.385839</td>\n",
       "      <td>8.439750</td>\n",
       "    </tr>\n",
       "    <tr>\n",
       "      <th>min</th>\n",
       "      <td>0.0</td>\n",
       "      <td>0.000000</td>\n",
       "      <td>0.000000</td>\n",
       "      <td>0.000000</td>\n",
       "      <td>0.0</td>\n",
       "      <td>0.000000</td>\n",
       "      <td>0.000000</td>\n",
       "      <td>0.0</td>\n",
       "      <td>0.0</td>\n",
       "      <td>0.000000</td>\n",
       "      <td>0.000000</td>\n",
       "      <td>0.000000</td>\n",
       "      <td>0.000000</td>\n",
       "    </tr>\n",
       "    <tr>\n",
       "      <th>25%</th>\n",
       "      <td>0.0</td>\n",
       "      <td>1.000000</td>\n",
       "      <td>1.000000</td>\n",
       "      <td>0.000000</td>\n",
       "      <td>0.0</td>\n",
       "      <td>7.000000</td>\n",
       "      <td>0.000000</td>\n",
       "      <td>0.0</td>\n",
       "      <td>0.0</td>\n",
       "      <td>1.000000</td>\n",
       "      <td>7.000000</td>\n",
       "      <td>0.000000</td>\n",
       "      <td>0.000000</td>\n",
       "    </tr>\n",
       "    <tr>\n",
       "      <th>50%</th>\n",
       "      <td>0.0</td>\n",
       "      <td>1.000000</td>\n",
       "      <td>1.000000</td>\n",
       "      <td>0.000000</td>\n",
       "      <td>0.0</td>\n",
       "      <td>13.000000</td>\n",
       "      <td>0.000000</td>\n",
       "      <td>0.0</td>\n",
       "      <td>0.0</td>\n",
       "      <td>1.000000</td>\n",
       "      <td>12.000000</td>\n",
       "      <td>0.000000</td>\n",
       "      <td>0.000000</td>\n",
       "    </tr>\n",
       "    <tr>\n",
       "      <th>75%</th>\n",
       "      <td>0.0</td>\n",
       "      <td>1.000000</td>\n",
       "      <td>1.000000</td>\n",
       "      <td>1.000000</td>\n",
       "      <td>0.0</td>\n",
       "      <td>20.000000</td>\n",
       "      <td>0.000000</td>\n",
       "      <td>0.0</td>\n",
       "      <td>0.0</td>\n",
       "      <td>1.000000</td>\n",
       "      <td>20.000000</td>\n",
       "      <td>0.000000</td>\n",
       "      <td>1.000000</td>\n",
       "    </tr>\n",
       "    <tr>\n",
       "      <th>max</th>\n",
       "      <td>0.0</td>\n",
       "      <td>1.000000</td>\n",
       "      <td>1.000000</td>\n",
       "      <td>1.000000</td>\n",
       "      <td>0.0</td>\n",
       "      <td>298.000000</td>\n",
       "      <td>683.000000</td>\n",
       "      <td>0.0</td>\n",
       "      <td>0.0</td>\n",
       "      <td>2.000000</td>\n",
       "      <td>298.000000</td>\n",
       "      <td>638.000000</td>\n",
       "      <td>684.000000</td>\n",
       "    </tr>\n",
       "  </tbody>\n",
       "</table>\n",
       "</div>"
      ],
      "text/plain": [
       "       flag_has_dependent_claim_text  flag_has_description_text  \\\n",
       "count                       188672.0              188672.000000   \n",
       "mean                             0.0                   0.822804   \n",
       "std                              0.0                   0.381836   \n",
       "min                              0.0                   0.000000   \n",
       "25%                              0.0                   1.000000   \n",
       "50%                              0.0                   1.000000   \n",
       "75%                              0.0                   1.000000   \n",
       "max                              0.0                   1.000000   \n",
       "\n",
       "       flag_has_independent_claim_text  flag_has_references  \\\n",
       "count                    188672.000000        188672.000000   \n",
       "mean                          0.999905             0.275070   \n",
       "std                           0.009767             0.446551   \n",
       "min                           0.000000             0.000000   \n",
       "25%                           1.000000             0.000000   \n",
       "50%                           1.000000             0.000000   \n",
       "75%                           1.000000             1.000000   \n",
       "max                           1.000000             1.000000   \n",
       "\n",
       "       max_dependent_claim  max_independent_claim  max_reference_sequence  \\\n",
       "count             188672.0          188672.000000           188672.000000   \n",
       "mean                   0.0              15.024142                1.581666   \n",
       "std                    0.0              12.052538                8.294750   \n",
       "min                    0.0               0.000000                0.000000   \n",
       "25%                    0.0               7.000000                0.000000   \n",
       "50%                    0.0              13.000000                0.000000   \n",
       "75%                    0.0              20.000000                0.000000   \n",
       "max                    0.0             298.000000              683.000000   \n",
       "\n",
       "       min_reference_sequence  number_dependent_claims_found  \\\n",
       "count                188672.0                       188672.0   \n",
       "mean                      0.0                            0.0   \n",
       "std                       0.0                            0.0   \n",
       "min                       0.0                            0.0   \n",
       "25%                       0.0                            0.0   \n",
       "50%                       0.0                            0.0   \n",
       "75%                       0.0                            0.0   \n",
       "max                       0.0                            0.0   \n",
       "\n",
       "       number_description_found  number_independent_claims_found  \\\n",
       "count             188672.000000                    188672.000000   \n",
       "mean                   0.833701                        15.021916   \n",
       "std                    0.400548                        12.052292   \n",
       "min                    0.000000                         0.000000   \n",
       "25%                    1.000000                         7.000000   \n",
       "50%                    1.000000                        12.000000   \n",
       "75%                    1.000000                        20.000000   \n",
       "max                    2.000000                       298.000000   \n",
       "\n",
       "       number_journal_references  number_references_found  \n",
       "count              188672.000000            188672.000000  \n",
       "mean                    1.425707                 1.856105  \n",
       "std                     7.385839                 8.439750  \n",
       "min                     0.000000                 0.000000  \n",
       "25%                     0.000000                 0.000000  \n",
       "50%                     0.000000                 0.000000  \n",
       "75%                     0.000000                 1.000000  \n",
       "max                   638.000000               684.000000  "
      ]
     },
     "execution_count": 5,
     "metadata": {},
     "output_type": "execute_result"
    }
   ],
   "source": [
    "valid_patents2[['flag_has_dependent_claim_text',\n",
    "       'flag_has_description_text', 'flag_has_independent_claim_text',\n",
    "       'flag_has_references', 'indep_claims_filenames', 'max_dependent_claim',\n",
    "       'max_independent_claim', 'max_reference_sequence',\n",
    "       'min_reference_sequence', 'number_dependent_claims_found',\n",
    "       'number_description_found', 'number_independent_claims_found', 'number_journal_references',\n",
    "       'number_references_found']].describe()"
   ]
  },
  {
   "cell_type": "code",
   "execution_count": 6,
   "metadata": {},
   "outputs": [
    {
     "data": {
      "text/plain": [
       "dtype('int64')"
      ]
     },
     "execution_count": 6,
     "metadata": {},
     "output_type": "execute_result"
    }
   ],
   "source": [
    "valid_patents2.loc[pd.isnull(valid_patents2['5_year_cites_rank']), 'patent_number'].dtype"
   ]
  },
  {
   "cell_type": "code",
   "execution_count": 6,
   "metadata": {},
   "outputs": [],
   "source": [
    "NUMERICAL_COLS = [\n",
    "    'description_word_count',\n",
    "    'lawyer_total_num_assignees',\n",
    " 'lawyer_total_num_inventors',\n",
    " 'lawyer_total_num_patents',\n",
    " 'max_dependent_claim',\n",
    " 'max_independent_claim',\n",
    " 'max_reference_sequence',\n",
    " 'min_reference_sequence',\n",
    "'inventor_total_num_patents',               \n",
    " 'number_assignees',\n",
    " 'number_assistant_examiners',\n",
    " 'number_dependent_claims_found',\n",
    " 'number_description_found',\n",
    " 'number_examiners',\n",
    " 'number_forprior',\n",
    " 'number_govint',\n",
    " 'number_independent_claims_found',\n",
    " 'number_inventors',\n",
    " 'number_journal_references',\n",
    " 'number_lawyers',\n",
    " 'number_primary_examiners',\n",
    " 'number_references_found']\n"
   ]
  },
  {
   "cell_type": "code",
   "execution_count": 7,
   "metadata": {},
   "outputs": [],
   "source": [
    "FLAG_COLS = ['assignee_is_company',\n",
    "             'assignee_is_gov',\n",
    "       'assignee_is_ind',\n",
    "             'flag_has_dependent_claim_text',\n",
    " 'flag_has_description_text',\n",
    " 'flag_has_forprior',\n",
    " 'flag_has_independent_claim_text',\n",
    " 'flag_has_references',\n",
    "         'missing_citations_made',\n",
    " 'missing_patent_abstract',\n",
    " 'missing_patent_title']"
   ]
  },
  {
   "cell_type": "code",
   "execution_count": 8,
   "metadata": {},
   "outputs": [],
   "source": [
    "CATEGORICAL_VARS = [\n",
    "#    'lawyer_organization',\n",
    "     'nber_category_id',\n",
    "   #  'nber_subcategory_id',\n",
    "    'patent_firstnamed_assignee_country',\n",
    "     'patent_firstnamed_assignee_state',\n",
    "     'patent_firstnamed_inventor_country',\n",
    "     'patent_firstnamed_inventor_state',\n",
    "    'patent_year'\n",
    "]"
   ]
  },
  {
   "cell_type": "code",
   "execution_count": 9,
   "metadata": {},
   "outputs": [],
   "source": [
    "TARGET = ['10_year_cites', '10_year_cites_top1']"
   ]
  },
  {
   "cell_type": "markdown",
   "metadata": {},
   "source": [
    "## Start Building Simple Classifier"
   ]
  },
  {
   "cell_type": "code",
   "execution_count": 10,
   "metadata": {},
   "outputs": [],
   "source": [
    "valid_patents2[\n",
    "    'patent_firstnamed_assignee_state'] = valid_patents2['patent_firstnamed_assignee_state'].fillna('Missing')\n",
    "valid_patents2[\n",
    "    'patent_firstnamed_assignee_country'] = valid_patents2['patent_firstnamed_assignee_country'].fillna('Missing')\n",
    "\n",
    "valid_patents2[\n",
    "    'patent_firstnamed_inventor_state'] = valid_patents2['patent_firstnamed_inventor_state'].fillna('Missing')\n",
    "valid_patents2[\n",
    "    'patent_firstnamed_inventor_country'] = valid_patents2['patent_firstnamed_inventor_country'].fillna('Missing')\n"
   ]
  },
  {
   "cell_type": "code",
   "execution_count": 11,
   "metadata": {},
   "outputs": [],
   "source": [
    "# import pandas_ml as pdml\n",
    "from sklearn.preprocessing import StandardScaler"
   ]
  },
  {
   "cell_type": "code",
   "execution_count": 12,
   "metadata": {},
   "outputs": [],
   "source": [
    "\n",
    "def is_valid_patent_number(patent_num):\n",
    "    '''try to convert patent number to int, flag errors'''\n",
    "    try:\n",
    "        t = int(patent_num)\n",
    "        return 1\n",
    "    except (TypeError, ValueError):\n",
    "        return 0"
   ]
  },
  {
   "cell_type": "code",
   "execution_count": 13,
   "metadata": {},
   "outputs": [],
   "source": [
    "del valid_patents2['is_valid_patent_number']\n",
    "valid_patents2['is_valid_patent_number'] = valid_patents2.patent_number.apply(is_valid_patent_number)"
   ]
  },
  {
   "cell_type": "code",
   "execution_count": 14,
   "metadata": {},
   "outputs": [],
   "source": [
    "v2 = valid_patents2.set_index('patent_number')"
   ]
  },
  {
   "cell_type": "code",
   "execution_count": 15,
   "metadata": {},
   "outputs": [],
   "source": [
    "v3 = v2.loc[v2.is_valid_patent_number==1, NUMERICAL_COLS+FLAG_COLS+TARGET+CATEGORICAL_VARS]"
   ]
  },
  {
   "cell_type": "code",
   "execution_count": 17,
   "metadata": {},
   "outputs": [
    {
     "data": {
      "text/plain": [
       "US         145873\n",
       "Missing     42799\n",
       "Name: patent_firstnamed_assignee_country, dtype: int64"
      ]
     },
     "execution_count": 17,
     "metadata": {},
     "output_type": "execute_result"
    }
   ],
   "source": [
    "v3.patent_firstnamed_assignee_country.value_counts()"
   ]
  },
  {
   "cell_type": "code",
   "execution_count": 18,
   "metadata": {},
   "outputs": [
    {
     "data": {
      "text/plain": [
       "US    188672\n",
       "Name: patent_firstnamed_inventor_country, dtype: int64"
      ]
     },
     "execution_count": 18,
     "metadata": {},
     "output_type": "execute_result"
    }
   ],
   "source": [
    "v3.patent_firstnamed_inventor_country.value_counts()"
   ]
  },
  {
   "cell_type": "code",
   "execution_count": 24,
   "metadata": {},
   "outputs": [],
   "source": [
    "# for a weird reason, firstnamed assignee/inventor state fields have  'Richmond' and 'San Francisco' instead of 'VA' and 'CA'\n",
    "# this corrects that\n",
    "INCORRECT_STATES = {\n",
    "    'Richmond': 'VA', \n",
    "    'San Francisco': 'CA'\n",
    "}"
   ]
  },
  {
   "cell_type": "code",
   "execution_count": 28,
   "metadata": {},
   "outputs": [],
   "source": [
    "def correct_data_error(raw_col, dict_corrections):\n",
    "    if raw_col in dict_corrections:\n",
    "        return dict_corrections[raw_col]\n",
    "    print('No issue', raw_col)\n",
    "    return raw_col"
   ]
  },
  {
   "cell_type": "code",
   "execution_count": 29,
   "metadata": {},
   "outputs": [
    {
     "name": "stdout",
     "output_type": "stream",
     "text": [
      "No issue CA\n"
     ]
    }
   ],
   "source": [
    "mask = (\n",
    "            (v3.patent_firstnamed_inventor_state.isin(incorrect_states.keys())) | (\n",
    "                v3.patent_firstnamed_assignee_state.isin(incorrect_states.keys())))\n",
    "v3.loc[\n",
    "    mask, 'patent_firstnamed_inventor_state'] = v3[mask]['patent_firstnamed_inventor_state'].apply(lambda x: correct_data_error(x, INCORRECT_STATES))"
   ]
  },
  {
   "cell_type": "code",
   "execution_count": 30,
   "metadata": {},
   "outputs": [],
   "source": [
    "v3.loc[\n",
    "    mask, 'patent_firstnamed_assignee_state'] = v3[mask]['patent_firstnamed_assignee_state'].apply(lambda x: correct_data_error(x, INCORRECT_STATES))"
   ]
  },
  {
   "cell_type": "code",
   "execution_count": 45,
   "metadata": {},
   "outputs": [],
   "source": [
    "# fill those with nan country or states as missing category\n",
    "# fill missing with nan\n",
    "v3.loc[v3.patent_firstnamed_assignee_country=='Missing', 'patent_firstnamed_assignee_country'] = np.nan\n",
    "v3.loc[v3.patent_firstnamed_assignee_state=='Missing', 'patent_firstnamed_assignee_state'] = np.nan\n",
    "v3.loc[v3.patent_firstnamed_inventor_state=='Missing', 'patent_firstnamed_inventor_state'] = np.nan\n",
    "v3.loc[v3.patent_firstnamed_inventor_country=='Missing', 'patent_firstnamed_inventor_country'] = np.nan"
   ]
  },
  {
   "cell_type": "code",
   "execution_count": 49,
   "metadata": {},
   "outputs": [],
   "source": [
    "# encode cateogoricals, drop one of catories, include a category for missing\n",
    "# cateogorical cols are auto dropped\n",
    "v4_cat = pd.get_dummies(v3[CATEGORICAL_VARS], prefix={'nber_category_id':'cat_nber',\n",
    "   #  'nber_subcategory_id',\n",
    "    'patent_firstnamed_assignee_country':'cat_a_country',\n",
    "     'patent_firstnamed_assignee_state':'cat_a_state',\n",
    "     'patent_firstnamed_inventor_country': 'cat_i_country',\n",
    "     'patent_firstnamed_inventor_state': 'cat_i_state',\n",
    "    'patent_year':'cat_grant_year'}, columns=CATEGORICAL_VARS, dummy_na=True, drop_first=False)"
   ]
  },
  {
   "cell_type": "code",
   "execution_count": 50,
   "metadata": {},
   "outputs": [],
   "source": [
    "# those missing any year are 1985 patents\n",
    "# try a thermometer encoding with patent year\n",
    "def thermometer_encode_grant_year(df, columns=None):\n",
    "    # nte that 1985 is the year implied when all are 0\n",
    "    if not columns:\n",
    "         columns=['cat_grant_year_1985.0', 'cat_grant_year_1986.0', 'cat_grant_year_1987.0', 'cat_grant_year_1988.0', 'cat_grant_year_1989.0',\n",
    "            'cat_grant_year_1990.0', 'cat_grant_year_1991.0', 'cat_grant_year_1992.0', 'cat_grant_year_1994.0',\n",
    "             'cat_grant_year_1995.0', 'cat_grant_year_1996.0', 'cat_grant_year_1997.0', 'cat_grant_year_1998.0',\n",
    "            'cat_grant_year_1999.0']\n",
    "    order = sorted(float(x.split('_')[-1]) for x in columns)\n",
    "    prefix = '_'.join(columns[0].split('_')[:-1])\n",
    "    ordered_colnames = ['{pref}_{yr}'.format(pref=prefix, yr=year_val) for year_val in order]\n",
    "    print(ordered_colnames)\n",
    "    for ind, colname in enumerate(ordered_colnames):\n",
    "        print(colname)\n",
    "        to_update = ordered_colnames[:ind]\n",
    "        if len(to_update) > 0:\n",
    "            df.loc[df[colname]==1, to_update] = 1\n",
    "    return df\n",
    "    "
   ]
  },
  {
   "cell_type": "code",
   "execution_count": 51,
   "metadata": {},
   "outputs": [
    {
     "name": "stdout",
     "output_type": "stream",
     "text": [
      "['cat_grant_year_1985.0', 'cat_grant_year_1986.0', 'cat_grant_year_1987.0', 'cat_grant_year_1988.0', 'cat_grant_year_1989.0', 'cat_grant_year_1990.0', 'cat_grant_year_1991.0', 'cat_grant_year_1992.0', 'cat_grant_year_1994.0', 'cat_grant_year_1995.0', 'cat_grant_year_1996.0', 'cat_grant_year_1997.0', 'cat_grant_year_1998.0', 'cat_grant_year_1999.0']\n",
      "cat_grant_year_1985.0\n",
      "cat_grant_year_1986.0\n",
      "cat_grant_year_1987.0\n",
      "cat_grant_year_1988.0\n",
      "cat_grant_year_1989.0\n",
      "cat_grant_year_1990.0\n",
      "cat_grant_year_1991.0\n",
      "cat_grant_year_1992.0\n",
      "cat_grant_year_1994.0\n",
      "cat_grant_year_1995.0\n",
      "cat_grant_year_1996.0\n",
      "cat_grant_year_1997.0\n",
      "cat_grant_year_1998.0\n",
      "cat_grant_year_1999.0\n"
     ]
    }
   ],
   "source": [
    "v5_cat = thermometer_encode_grant_year(v4_cat)"
   ]
  },
  {
   "cell_type": "code",
   "execution_count": 52,
   "metadata": {},
   "outputs": [],
   "source": [
    "stand_scale = StandardScaler()"
   ]
  },
  {
   "cell_type": "code",
   "execution_count": 53,
   "metadata": {},
   "outputs": [],
   "source": [
    "v5_num = pd.DataFrame(stand_scale.fit_transform(v3[NUMERICAL_COLS]), columns=NUMERICAL_COLS, index=v3.index)"
   ]
  },
  {
   "cell_type": "code",
   "execution_count": 54,
   "metadata": {},
   "outputs": [],
   "source": [
    "v6 = v5_num.merge(v5_cat, left_index=True, right_index=True, how='inner')"
   ]
  },
  {
   "cell_type": "code",
   "execution_count": 55,
   "metadata": {},
   "outputs": [
    {
     "name": "stdout",
     "output_type": "stream",
     "text": [
      "(188672, 41)\n"
     ]
    },
    {
     "data": {
      "text/plain": [
       "(188672, 155)"
      ]
     },
     "execution_count": 55,
     "metadata": {},
     "output_type": "execute_result"
    }
   ],
   "source": [
    "print(v3.shape)\n",
    "v6.shape"
   ]
  },
  {
   "cell_type": "code",
   "execution_count": 56,
   "metadata": {},
   "outputs": [],
   "source": [
    "v7 = v6.merge(v3[FLAG_COLS+TARGET], left_index=True, right_index=True, how='inner')"
   ]
  },
  {
   "cell_type": "code",
   "execution_count": 59,
   "metadata": {},
   "outputs": [
    {
     "name": "stdout",
     "output_type": "stream",
     "text": [
      "count    188672.000000\n",
      "mean         10.280990\n",
      "std          15.944576\n",
      "min           0.000000\n",
      "25%           2.000000\n",
      "50%           6.000000\n",
      "75%          12.000000\n",
      "85%          18.000000\n",
      "90%          23.000000\n",
      "max         755.000000\n",
      "Name: 10_year_cites, dtype: float64\n"
     ]
    },
    {
     "data": {
      "text/plain": [
       "count    188672.000000\n",
       "mean          0.105177\n",
       "std           0.306782\n",
       "min           0.000000\n",
       "25%           0.000000\n",
       "50%           0.000000\n",
       "75%           0.000000\n",
       "max           1.000000\n",
       "Name: 10_year_cites_top10, dtype: float64"
      ]
     },
     "execution_count": 59,
     "metadata": {},
     "output_type": "execute_result"
    }
   ],
   "source": [
    "# add additional output variable margins\n",
    "descr = v7['10_year_cites'].describe(percentiles=[.25, .5, .75, .85, .9])\n",
    "\n",
    "print(descr)\n",
    "\n",
    "# create a couple other classification categories to run the SVM on\n",
    "v7['10_year_cites_top10'] = (v7['10_year_cites']>= descr['90%']).astype(int)\n",
    "\n",
    "v7['10_year_cites_top10'].describe()"
   ]
  },
  {
   "cell_type": "code",
   "execution_count": 60,
   "metadata": {},
   "outputs": [
    {
     "data": {
      "text/plain": [
       "count    188672.000000\n",
       "mean          0.925898\n",
       "std           0.261938\n",
       "min           0.000000\n",
       "25%           1.000000\n",
       "50%           1.000000\n",
       "75%           1.000000\n",
       "max           1.000000\n",
       "Name: 10_year_cites_above0, dtype: float64"
      ]
     },
     "execution_count": 60,
     "metadata": {},
     "output_type": "execute_result"
    }
   ],
   "source": [
    "# create a couple other classification categories to run the SVM on\n",
    "v7['10_year_cites_top50'] = (v7['10_year_cites']>= descr['50%']).astype(int)\n",
    "\n",
    "v7['10_year_cites_top50'].describe()\n",
    "\n",
    "v7['10_year_cites_top75'] = (v7['10_year_cites'] >= descr['25%']).astype(int)\n",
    "\n",
    "# note there are a lot of patents that get 2 so choice of greater than or greater than equal matters alot\n",
    "v7['10_year_cites_top75'].describe()\n",
    "\n",
    "v7['10_year_cites_above0'] = (v7['10_year_cites'] > 0).astype(int)\n",
    "\n",
    "v7['10_year_cites_above0'].describe()"
   ]
  },
  {
   "cell_type": "code",
   "execution_count": 61,
   "metadata": {},
   "outputs": [],
   "source": [
    "v7.to_pickle(\n",
    "    '/pool001/lraymond/processed_data/pre_analysis_dfs/standardized_linear_classifier_df.p')"
   ]
  },
  {
   "cell_type": "code",
   "execution_count": 58,
   "metadata": {},
   "outputs": [
    {
     "name": "stdout",
     "output_type": "stream",
     "text": [
      "(188672, 41)\n"
     ]
    },
    {
     "data": {
      "text/plain": [
       "(188672, 168)"
      ]
     },
     "execution_count": 58,
     "metadata": {},
     "output_type": "execute_result"
    }
   ],
   "source": [
    "print(v3.shape)\n",
    "v7.shape"
   ]
  },
  {
   "cell_type": "code",
   "execution_count": 4,
   "metadata": {},
   "outputs": [],
   "source": [
    "v6 = pd.read_pickle(\n",
    "    '/pool001/lraymond/processed_data/pre_analysis_dfs/standardized_linear_classifier_df.p')"
   ]
  },
  {
   "cell_type": "code",
   "execution_count": 5,
   "metadata": {},
   "outputs": [
    {
     "data": {
      "text/plain": [
       "count    188672.000000\n",
       "mean          0.010213\n",
       "std           0.100545\n",
       "min           0.000000\n",
       "25%           0.000000\n",
       "50%           0.000000\n",
       "75%           0.000000\n",
       "max           1.000000\n",
       "Name: 10_year_cites_top1, dtype: float64"
      ]
     },
     "execution_count": 5,
     "metadata": {},
     "output_type": "execute_result"
    }
   ],
   "source": [
    "v6['10_year_cites_top1'].describe()"
   ]
  },
  {
   "cell_type": "code",
   "execution_count": null,
   "metadata": {},
   "outputs": [],
   "source": []
  },
  {
   "cell_type": "code",
   "execution_count": 11,
   "metadata": {},
   "outputs": [],
   "source": [
    "Y_col = ['10_year_cites_top1']\n",
    "X_cols = [c for c in v6.columns if '_cites' not in c]\n",
    "\n",
    "from imblearn.under_sampling import RandomUnderSampler\n",
    "\n",
    "rus = RandomUnderSampler(sampling_strategy=1, return_indices=True, random_state=0)\n",
    "\n",
    "\n",
    "X = v6[X_cols].as_matrix()\n",
    "Y = v6[Y_col[0]].as_matrix()\n",
    "\n",
    "#X_rus, y_rus, id_rus = rus.fit_sample(X, y)\n",
    "\n",
    "\n",
    "# (X[ind]==X_resampled).all() should be True\n",
    "X_resampled, y_resampled, ind = rus.fit_resample(X, Y)"
   ]
  },
  {
   "cell_type": "code",
   "execution_count": 12,
   "metadata": {},
   "outputs": [
    {
     "data": {
      "text/plain": [
       "0.5"
      ]
     },
     "execution_count": 12,
     "metadata": {},
     "output_type": "execute_result"
    }
   ],
   "source": [
    "np.mean(y_resampled)"
   ]
  },
  {
   "cell_type": "code",
   "execution_count": 13,
   "metadata": {},
   "outputs": [],
   "source": [
    "from sklearn import svm"
   ]
  },
  {
   "cell_type": "code",
   "execution_count": 14,
   "metadata": {},
   "outputs": [],
   "source": [
    "X_train, X_test, y_train, y_test, pat_nums_train, pat_nums_test = sklearn.model_selection.train_test_split(\n",
    "    X_resampled, y_resampled, ind, random_state=0, shuffle=True)\n",
    "\n",
    "clf = svm.SVC(kernel='sigmoid', probability=True)\n",
    "\n",
    "# Train the classifier with balancing\n",
    "clf.fit(X_train, y_train)\n",
    "\n",
    "# Test the classifier and get the prediction\n",
    "y_pred_bal = clf.predict(X_test)\n",
    "y_pred = clf.predict_proba(X_test)\n",
    "y_pred_probs = y_pred[:,1]"
   ]
  },
  {
   "cell_type": "code",
   "execution_count": 15,
   "metadata": {},
   "outputs": [],
   "source": [
    "# write function that sorts by predicted probabilities and then graphs\n",
    "test_target_vals = v6.iloc[pat_nums_test]['10_year_cites']"
   ]
  },
  {
   "cell_type": "code",
   "execution_count": 16,
   "metadata": {},
   "outputs": [],
   "source": [
    "to_plot = pd.DataFrame(\n",
    "    index=pat_nums_test, data={\n",
    "        'actual': y_test,\n",
    "        'prediction': y_pred_probs,\n",
    "        '10_year_cites': test_target_vals.values}).sort_values(['prediction', '10_year_cites'])"
   ]
  },
  {
   "cell_type": "code",
   "execution_count": 17,
   "metadata": {},
   "outputs": [],
   "source": [
    "# group by prediction decile\n",
    "to_plot['decile'] = pd.qcut(\n",
    "    to_plot.prediction, q=10, labels=[\n",
    "        '1', '2', '3', '4', '5', '6', '7', '8', '9', '10'], precision=3, duplicates='raise')\n"
   ]
  },
  {
   "cell_type": "code",
   "execution_count": 18,
   "metadata": {},
   "outputs": [],
   "source": [
    "to_plot['true_positive'] = 0\n",
    "mask = ((to_plot.prediction > .5) & (to_plot.actual==1))\n",
    "to_plot.loc[mask, 'true_positive'] = 1\n",
    "\n",
    "#to_plot.true_positive.describe()"
   ]
  },
  {
   "cell_type": "code",
   "execution_count": 19,
   "metadata": {},
   "outputs": [],
   "source": [
    "to_plot['true_negative'] = 0\n",
    "mask = ((to_plot.prediction <= .5) & (to_plot.actual==0))\n",
    "to_plot.loc[mask, 'true_negative'] = 1\n",
    "\n",
    "#to_plot.true_negative.describe()\n"
   ]
  },
  {
   "cell_type": "code",
   "execution_count": 20,
   "metadata": {},
   "outputs": [],
   "source": [
    "to_plot['true_negative_class_as_positive'] = 0\n",
    "mask = ((to_plot.prediction > .5) & (to_plot.actual==0))\n",
    "to_plot.loc[mask, 'true_negative_class_as_positive'] = 1\n",
    "\n",
    "#to_plot.true_negative_class_as_positive.describe()"
   ]
  },
  {
   "cell_type": "code",
   "execution_count": 21,
   "metadata": {},
   "outputs": [],
   "source": [
    "to_plot['true_positive_class_as_negative'] = 0\n",
    "\n",
    "mask = ((to_plot.prediction <= .5) & (to_plot.actual==1))\n",
    "to_plot.loc[mask, 'true_positive_class_as_negative'] = 1\n",
    "\n",
    "#to_plot.true_positive_class_as_negative.describe()"
   ]
  },
  {
   "cell_type": "code",
   "execution_count": 22,
   "metadata": {},
   "outputs": [
    {
     "data": {
      "image/png": "[encoded data removed]",
      "text/plain": [
       "<matplotlib.figure.Figure at 0x2aab649588d0>"
      ]
     },
     "metadata": {
      "needs_background": "light"
     },
     "output_type": "display_data"
    }
   ],
   "source": [
    "to_plot.groupby('decile').agg({'10_year_cites': np.mean}).plot()\n",
    "plt.xlabel('Prediction Decile')\n",
    "plt.ylabel('Average 10 Year Citations')\n",
    "plt.title('Avg Citations by Prediction Decile')\n",
    "plt.legend(loc=\"lower right\")\n",
    "plt.show()"
   ]
  },
  {
   "cell_type": "code",
   "execution_count": 23,
   "metadata": {},
   "outputs": [
    {
     "name": "stderr",
     "output_type": "stream",
     "text": [
      "/home/software/sloan/local/lib/py36/pandas/core/groupby.py:4036: FutureWarning: using a dict with renaming is deprecated and will be removed in a future version\n",
      "  return super(DataFrameGroupBy, self).aggregate(arg, *args, **kwargs)\n"
     ]
    }
   ],
   "source": [
    "# by cutoff decile of prediction, what is the total percent of top 1 percents found?\n",
    "percent_explained = to_plot.groupby('decile').agg({'actual': {'top1_count': np.sum, 'total': 'count'}, \n",
    "                                                  '10_year_cites': {'avg_cites': np.mean, 'total_cites': np.sum}})\n",
    "\n",
    "percent_explained.columns = percent_explained.columns.droplevel(0)"
   ]
  },
  {
   "cell_type": "code",
   "execution_count": 24,
   "metadata": {},
   "outputs": [],
   "source": [
    "\n",
    "total_cites = percent_explained['total_cites'].sum()\n",
    "percent_explained['percentage_cites'] = percent_explained['total_cites']/total_cites\n",
    "percent_explained['cumsum_percentage_cites'] = percent_explained.sort_index(\n",
    "    ascending=False)['percentage_cites'].cumsum()\n",
    "\n"
   ]
  },
  {
   "cell_type": "code",
   "execution_count": 25,
   "metadata": {},
   "outputs": [
    {
     "data": {
      "image/png": "[encoded data removed]",
      "text/plain": [
       "<matplotlib.figure.Figure at 0x2aab64a67208>"
      ]
     },
     "metadata": {
      "needs_background": "light"
     },
     "output_type": "display_data"
    }
   ],
   "source": [
    "percent_explained[['percentage_cites', 'cumsum_percentage_cites']].plot()\n",
    "plt.xlabel('Prediction Decile')\n",
    "plt.ylabel('Percentage')\n",
    "plt.title('Percentage of Citations Explained by Prediction Decile')\n",
    "plt.legend(loc=\"upper right\")\n",
    "plt.show()"
   ]
  },
  {
   "cell_type": "code",
   "execution_count": 26,
   "metadata": {},
   "outputs": [
    {
     "data": {
      "image/png": "[encoded data removed]",
      "text/plain": [
       "<matplotlib.figure.Figure at 0x2aab64d6b828>"
      ]
     },
     "metadata": {
      "needs_background": "light"
     },
     "output_type": "display_data"
    }
   ],
   "source": [
    "# plot number of correctly classified vs incorrectly classified\n",
    "to_plot.groupby('decile').agg({'true_positive_class_as_negative': np.mean, \n",
    "                              'true_negative_class_as_positive': np.mean,\n",
    "                              'true_negative': np.mean,\n",
    "                              'true_positive': np.mean}).plot()\n",
    "plt.xlabel('Prediction Decile')\n",
    "plt.ylabel('Categorization')\n",
    "plt.title('Correct and Incorrect Categorizations')\n",
    "plt.legend(loc=\"upper right\")\n",
    "plt.show()"
   ]
  },
  {
   "cell_type": "code",
   "execution_count": 27,
   "metadata": {},
   "outputs": [],
   "source": [
    "percent_explained['not_top1_count'] = percent_explained['total'] - percent_explained['top1_count']"
   ]
  },
  {
   "cell_type": "code",
   "execution_count": 28,
   "metadata": {},
   "outputs": [],
   "source": [
    "total_top1 = percent_explained.top1_count.sum()\n",
    "total_not_top1 = percent_explained.not_top1_count.sum()\n",
    "\n"
   ]
  },
  {
   "cell_type": "code",
   "execution_count": 29,
   "metadata": {},
   "outputs": [
    {
     "data": {
      "image/png": "[encoded data removed]",
      "text/plain": [
       "<matplotlib.figure.Figure at 0x2aab64c2e908>"
      ]
     },
     "metadata": {
      "needs_background": "light"
     },
     "output_type": "display_data"
    }
   ],
   "source": [
    "percent_explained['percentage_top1'] = percent_explained['top1_count']/total_top1\n",
    "percent_explained['percentage_not_top1'] = percent_explained['not_top1_count']/total_not_top1\n",
    "\n",
    "\n",
    "percent_explained[[\n",
    "    'percentage_top1', 'percentage_not_top1']].plot()\n",
    "plt.xlabel('Prediction Decile')\n",
    "plt.ylabel('Percentage of Target Group in Each Decile')\n",
    "plt.title('Percentage of Explained')\n",
    "plt.legend(loc=\"upper right\")\n",
    "plt.show()\n"
   ]
  },
  {
   "cell_type": "code",
   "execution_count": 30,
   "metadata": {},
   "outputs": [],
   "source": [
    "# Percentage of citations explained by real top 1 vs. our top 1\n",
    "percent_explained['percentage_not_top1_cumsum'] = percent_explained.percentage_not_top1.cumsum()\n",
    "\n",
    "p2 = percent_explained.sort_index(ascending=False)\n",
    "p2['percentage_top1_cumsum'] = p2.percentage_top1.cumsum()\n",
    "\n"
   ]
  },
  {
   "cell_type": "code",
   "execution_count": 31,
   "metadata": {},
   "outputs": [],
   "source": [
    "p3 = p2.reset_index(drop=False)\n",
    "p4 = percent_explained.reset_index(drop=True)"
   ]
  },
  {
   "cell_type": "code",
   "execution_count": 32,
   "metadata": {},
   "outputs": [],
   "source": [
    "p5 = p4[['percentage_not_top1_cumsum']].merge(p3[['percentage_top1_cumsum']], left_index=True, right_index=True)"
   ]
  },
  {
   "cell_type": "code",
   "execution_count": 33,
   "metadata": {},
   "outputs": [
    {
     "data": {
      "image/png": "[encoded data removed]",
      "text/plain": [
       "<matplotlib.figure.Figure at 0x2aab64e6eb70>"
      ]
     },
     "metadata": {
      "needs_background": "light"
     },
     "output_type": "display_data"
    }
   ],
   "source": [
    "p5.plot()\n",
    "plt.xlabel('Respective Highest Decile')\n",
    "plt.ylabel('Cumulative Percentage')\n",
    "plt.title('Cumulative Percentage of Target Group Explained ')\n",
    "plt.legend(loc=\"upper right\")\n",
    "plt.show()"
   ]
  },
  {
   "cell_type": "markdown",
   "metadata": {},
   "source": [
    "Sensitivity (also called true positive rate or recall) is the proportion of the positive samples which is well classified while specificity (also called true negative rate) is the proportion of the negative samples which are well classified."
   ]
  },
  {
   "cell_type": "code",
   "execution_count": 34,
   "metadata": {},
   "outputs": [
    {
     "ename": "NameError",
     "evalue": "name 'metrics' is not defined",
     "output_type": "error",
     "traceback": [
      "\u001b[0;31m---------------------------------------------------------------------------\u001b[0m",
      "\u001b[0;31mNameError\u001b[0m                                 Traceback (most recent call last)",
      "\u001b[0;32m<ipython-input-34-78430c4c0126>\u001b[0m in \u001b[0;36m<module>\u001b[0;34m()\u001b[0m\n\u001b[1;32m      7\u001b[0m \u001b[0;34m\u001b[0m\u001b[0m\n\u001b[1;32m      8\u001b[0m \u001b[0;34m\u001b[0m\u001b[0m\n\u001b[0;32m----> 9\u001b[0;31m \u001b[0mprint\u001b[0m\u001b[0;34m(\u001b[0m\u001b[0mmetrics\u001b[0m\u001b[0;34m.\u001b[0m\u001b[0mclassification_report_imbalanced\u001b[0m\u001b[0;34m(\u001b[0m\u001b[0my_test\u001b[0m\u001b[0;34m,\u001b[0m \u001b[0my_pred_bal\u001b[0m\u001b[0;34m)\u001b[0m\u001b[0;34m)\u001b[0m\u001b[0;34m\u001b[0m\u001b[0m\n\u001b[0m\u001b[1;32m     10\u001b[0m \u001b[0;34m\u001b[0m\u001b[0m\n\u001b[1;32m     11\u001b[0m \u001b[0mprint\u001b[0m\u001b[0;34m(\u001b[0m\u001b[0mlen\u001b[0m\u001b[0;34m(\u001b[0m\u001b[0my_pred_bal\u001b[0m\u001b[0;34m)\u001b[0m\u001b[0;34m)\u001b[0m\u001b[0;34m\u001b[0m\u001b[0m\n",
      "\u001b[0;31mNameError\u001b[0m: name 'metrics' is not defined"
     ]
    }
   ],
   "source": [
    "# classifier = svm.SVC(kernel='sigmoid', probability=True,\n",
    "#                       random_state=RANDOM_STATE)\n",
    "# classifier.fit(X_train, y_train)\n",
    "# y_pre_bal = classifier.predict_proba(X_test)\n",
    "#     # Compute ROC curve and area the curve\n",
    "\n",
    "\n",
    "\n",
    "print(metrics.classification_report_imbalanced(y_test, y_pred_bal))\n",
    "\n",
    "print(len(y_pred_bal))\n",
    "\n",
    "# total correctly classified true positives\n",
    "sum(map(lambda x: sum(x)==2, zip(y_pred_bal, y_test)))\n",
    "\n",
    "# total correctly classified true negatives\n",
    "sum(map(lambda x: sum(x)==0, zip(y_pred_bal, y_test)))\n",
    "\n",
    "# total true positives classified as negative\n",
    "sum(map(lambda x: ((x[0]==0) & (x[1]==1)) , zip(y_pred_bal, y_test)))\n",
    "\n",
    "# total true negatives classified as positive\n",
    "# first is predicted value, second is correct value\n",
    "sum(map(lambda x: ((x[0]==1) & (x[1]==0)) , zip(y_pred_bal, y_test)))\n",
    "\n",
    "print(len(y_train))\n",
    "print(sum(y_pred_bal))\n",
    "print(sum(y_train))"
   ]
  },
  {
   "cell_type": "code",
   "execution_count": 47,
   "metadata": {},
   "outputs": [],
   "source": [
    "# Run classifier with cross-validation and plot ROC curves\n",
    "import matplotlib.pyplot as plt\n",
    "\n",
    "from scipy import interp\n",
    "\n",
    "from sklearn import svm\n",
    "from sklearn.metrics import roc_curve, auc\n",
    "from sklearn.model_selection import StratifiedKFold\n",
    "from imblearn.under_sampling import RandomUnderSampler\n",
    "\n",
    "RANDOM_STATE = 0\n",
    "\n",
    "#classifier = LogisticRegression(random_state=RANDOM_STATE)\n",
    "Y_col = ['10_year_cites_top1']\n",
    "X_cols = [c for c in v6.columns if '_cites' not in c]\n",
    "\n",
    "rus = RandomUnderSampler(sampling_strategy=1, return_indices=True, random_state=0)\n",
    "\n",
    "\n",
    "X = v6[X_cols].as_matrix()\n",
    "Y = v6[Y_col[0]].as_matrix()\n",
    "\n",
    "#X_rus, y_rus, id_rus = rus.fit_sample(X, y)\n",
    "\n",
    "\n",
    "# (X[ind]==X_resampled).all() should be True\n",
    "X_resampled, y_resampled, ind = rus.fit_resample(X, Y)\n",
    "\n",
    "tprs = []\n",
    "aucs = []\n",
    "\n",
    "# remember to specify the type of model\n",
    "\n",
    "#clf = LogisticRegression()"
   ]
  },
  {
   "cell_type": "code",
   "execution_count": 48,
   "metadata": {},
   "outputs": [],
   "source": [
    "def gen_folds(clf, X_resampled=X_resampled, y_resampled=y_resampled):\n",
    "    tprs = []\n",
    "    aucs = []\n",
    "    i = 0\n",
    "    mean_fpr = np.linspace(0, 1, 100)\n",
    "    cv = StratifiedKFold(n_splits=8)\n",
    "\n",
    "    for train, test in cv.split(X_resampled, y_resampled):\n",
    "        probas_ = clf.fit(X_resampled[train], y_resampled[train]).predict_proba(X_resampled[test])\n",
    "        # Compute ROC curve and area the curve\n",
    "        fpr, tpr, thresholds = roc_curve(y_resampled[test], probas_[:, 1])\n",
    "        tprs.append(interp(mean_fpr, fpr, tpr))\n",
    "        tprs[-1][0] = 0.0\n",
    "        roc_auc = auc(fpr, tpr)\n",
    "        aucs.append(roc_auc)\n",
    "        plt.plot(fpr, tpr, lw=1, alpha=0.3,\n",
    "             label='ROC fold %d (AUC = %0.2f)' % (i, roc_auc))\n",
    "\n",
    "        i += 1\n",
    "    return tprs, aucs\n",
    "  "
   ]
  },
  {
   "cell_type": "code",
   "execution_count": 37,
   "metadata": {},
   "outputs": [],
   "source": [
    "from sklearn.neural_network import MLPClassifier\n",
    "from sklearn.neighbors import KNeighborsClassifier\n",
    "from sklearn.svm import SVC, SVR\n",
    "from sklearn.gaussian_process import GaussianProcessClassifier\n",
    "from sklearn.gaussian_process.kernels import RBF\n",
    "from sklearn.tree import DecisionTreeClassifier\n",
    "from sklearn.ensemble import RandomForestClassifier, AdaBoostClassifier\n",
    "from sklearn.naive_bayes import GaussianNB\n",
    "from sklearn.discriminant_analysis import QuadraticDiscriminantAnalysis\n"
   ]
  },
  {
   "cell_type": "code",
   "execution_count": null,
   "metadata": {},
   "outputs": [],
   "source": [
    "names = [\"Logistic Regression\", \"Linear SVM\", \"RBF SVM\", \n",
    "         \"Sigmoid SVM\", \n",
    "          \"Random Forest\", \"Neural Net\", \"AdaBoost\",\n",
    "         \"QDA\"]"
   ]
  },
  {
   "cell_type": "code",
   "execution_count": null,
   "metadata": {},
   "outputs": [],
   "source": [
    "classifiers = [\n",
    "    LogisticRegression(),\n",
    "    SVC(kernel=\"linear\", C=0.025, probability=True),\n",
    "    SVC(gamma=2, C=1, probability=True),\n",
    "    SVC(kernel='sigmoid', probability=True),\n",
    "\n",
    " #   GaussianProcessClassifier(1.0 * RBF(1.0)),\n",
    "   # DecisionTreeClassifier(max_depth=5),\n",
    "    RandomForestClassifier(max_depth=5, n_estimators=100),\n",
    "    MLPClassifier(alpha=1),\n",
    "    AdaBoostClassifier(),\n",
    "    QuadraticDiscriminantAnalysis()\n",
    "]"
   ]
  },
  {
   "cell_type": "code",
   "execution_count": null,
   "metadata": {},
   "outputs": [],
   "source": []
  },
  {
   "cell_type": "code",
   "execution_count": 43,
   "metadata": {},
   "outputs": [],
   "source": [
    "# plotting logic\n",
    "def gen_ROC_plot(classifier_name, tprs, aucs):\n",
    "    mean_fpr = np.linspace(0, 1, 100)\n",
    "    plt.plot([0, 1], [0, 1], linestyle='--', lw=2, color='r',\n",
    "         label='Chance', alpha=.8)\n",
    "\n",
    "    mean_tpr = np.mean(tprs, axis=0)\n",
    "    mean_tpr[-1] = 1.0\n",
    "    mean_auc = auc(mean_fpr, mean_tpr)\n",
    "    std_auc = np.std(aucs)\n",
    "    plt.plot(mean_fpr, mean_tpr, color='b',\n",
    "         label=r'Mean ROC (AUC = %0.2f $\\pm$ %0.2f)' % (mean_auc, std_auc),\n",
    "         lw=2, alpha=.8)\n",
    "\n",
    "    std_tpr = np.std(tprs, axis=0)\n",
    "    tprs_upper = np.minimum(mean_tpr + std_tpr, 1)\n",
    "    tprs_lower = np.maximum(mean_tpr - std_tpr, 0)\n",
    "    plt.fill_between(mean_fpr, tprs_lower, tprs_upper, color='grey', alpha=.2,\n",
    "                 label=r'$\\pm$ 1 std. dev.')\n",
    "\n",
    "    plt.xlim([-0.05, 1.05])\n",
    "    plt.ylim([-0.05, 1.05])\n",
    "    plt.xlabel('False Positive Rate')\n",
    "    plt.ylabel('True Positive Rate')\n",
    "    plt.title('Receiver operating characteristic {}'.format(classifier_name))\n",
    "    plt.legend(loc=\"lower right\")\n",
    "    plt.savefig('/home/lraymond/plots/{}.png'.format(classifier_name))\n",
    "    plt.show()\n",
    "\n",
    "# how to interpret ROC and AUC - write up\n",
    "# what are balanced/imbalanced metrics\n",
    "# add in vectorized abstract/title\n",
    "# test all the linear classifiers\n",
    "# \n",
    "# add in references count and description information"
   ]
  },
  {
   "cell_type": "code",
   "execution_count": null,
   "metadata": {},
   "outputs": [],
   "source": [
    "gen_ROC_plot(names[3], *res[3])"
   ]
  },
  {
   "cell_type": "markdown",
   "metadata": {},
   "source": [
    "## ROC Interpretation\n",
    "* for a series of different cut probabilities, it shows the true positive rate and the false positive rate. \n",
    "* True Positive/Sensitivity/Recall/Probability of Detection: The fraction of people with the disease that the test correctly identifies as positive. \n",
    "* Specificity: 1-False positive rate (prediction a top1 patent that isn't) - The fraction of people without the disease that the test correctly identifies as negative.\n",
    "* Area under the curve is the accuracy -probability the classifier will rank a randomly chosen positive instance higher than a randomly chosen control\n"
   ]
  },
  {
   "cell_type": "code",
   "execution_count": 49,
   "metadata": {},
   "outputs": [
    {
     "name": "stdout",
     "output_type": "stream",
     "text": [
      "0.5\n"
     ]
    }
   ],
   "source": [
    "#res = list(map(gen_folds, classifiers))\n",
    "print(np.mean(y_resampled))"
   ]
  },
  {
   "cell_type": "code",
   "execution_count": 50,
   "metadata": {},
   "outputs": [
    {
     "data": {
      "image/png": "[encoded data removed]",
      "text/plain": [
       "<matplotlib.figure.Figure at 0x2aab64958080>"
      ]
     },
     "metadata": {
      "needs_background": "light"
     },
     "output_type": "display_data"
    }
   ],
   "source": [
    "clf = svm.SVC(kernel='sigmoid', probability=True)\n",
    "svc_res = gen_folds(clf, X_resampled, y_resampled)"
   ]
  },
  {
   "cell_type": "code",
   "execution_count": 51,
   "metadata": {},
   "outputs": [
    {
     "data": {
      "image/png": "[encoded data removed]",
      "text/plain": [
       "<matplotlib.figure.Figure at 0x2aab6491ceb8>"
      ]
     },
     "metadata": {
      "needs_background": "light"
     },
     "output_type": "display_data"
    }
   ],
   "source": [
    "gen_ROC_plot('Sigmoid_class', *svc_res)"
   ]
  },
  {
   "cell_type": "code",
   "execution_count": null,
   "metadata": {},
   "outputs": [],
   "source": [
    "\n"
   ]
  },
  {
   "cell_type": "code",
   "execution_count": 8,
   "metadata": {},
   "outputs": [],
   "source": [
    "Y_col_C = ['10_year_cites_top1']\n",
    "Y_col_R = ['10_year_cites']\n",
    "\n",
    "\n",
    "X_cols = [c for c in v6.columns if '_cites' not in c]\n",
    "\n",
    "from imblearn.under_sampling import RandomUnderSampler\n",
    "\n",
    "rus = RandomUnderSampler(sampling_strategy=1, return_indices=True, random_state=0)\n"
   ]
  },
  {
   "cell_type": "code",
   "execution_count": 9,
   "metadata": {},
   "outputs": [],
   "source": [
    "\n",
    "X = v6[X_cols].as_matrix()\n",
    "Y_C = v6[Y_col_C[0]].as_matrix()\n",
    "\n",
    "\n",
    "X_resampled, y_c_resampled, ind = rus.fit_resample(X, Y_C)\n"
   ]
  },
  {
   "cell_type": "code",
   "execution_count": 11,
   "metadata": {},
   "outputs": [],
   "source": [
    "X_train, X_test, y_train, y_test, ind_train, ind_test = sklearn.model_selection.train_test_split(\n",
    "    X_resampled, y_c_resampled, ind , random_state=0, shuffle=True)"
   ]
  },
  {
   "cell_type": "code",
   "execution_count": 13,
   "metadata": {},
   "outputs": [
    {
     "data": {
      "text/plain": [
       "SVC(C=1.0, cache_size=200, class_weight=None, coef0=0.0,\n",
       "  decision_function_shape='ovr', degree=3, gamma='auto', kernel='sigmoid',\n",
       "  max_iter=3000, probability=True, random_state=None, shrinking=True,\n",
       "  tol=0.001, verbose=False)"
      ]
     },
     "execution_count": 13,
     "metadata": {},
     "output_type": "execute_result"
    }
   ],
   "source": [
    "# Train the regress0-k with balancing\n",
    "clf = svm.SVC(kernel='sigmoid', probability=True, max_iter=3000)\n",
    "clf.fit(X_train, y_train)\n",
    "#preds = clf.predict_proba(X_resampled[test])\n",
    "        # Compute ROC curve and area the curve"
   ]
  },
  {
   "cell_type": "code",
   "execution_count": 14,
   "metadata": {},
   "outputs": [],
   "source": [
    "q_score = clf.predict_proba(X)"
   ]
  },
  {
   "cell_type": "code",
   "execution_count": 16,
   "metadata": {},
   "outputs": [
    {
     "data": {
      "text/plain": [
       "(188672, 2)"
      ]
     },
     "execution_count": 16,
     "metadata": {},
     "output_type": "execute_result"
    }
   ],
   "source": [
    "q_score.shape"
   ]
  },
  {
   "cell_type": "code",
   "execution_count": 17,
   "metadata": {},
   "outputs": [],
   "source": [
    "# combine \n",
    "scored = v6.merge(\n",
    "    pd.DataFrame({'q_score': q_score[:, 1]}, index=v6.index), left_index=True, right_index=True)"
   ]
  },
  {
   "cell_type": "code",
   "execution_count": 18,
   "metadata": {},
   "outputs": [],
   "source": [
    "scored.to_pickle('/pool001/lraymond/processed_data/scored_dfs/scored_SVM.p')"
   ]
  },
  {
   "cell_type": "code",
   "execution_count": 66,
   "metadata": {},
   "outputs": [
    {
     "data": {
      "text/plain": [
       "count    188672.000000\n",
       "mean         10.280990\n",
       "std          15.944576\n",
       "min           0.000000\n",
       "25%           2.000000\n",
       "50%           6.000000\n",
       "75%          12.000000\n",
       "max         755.000000\n",
       "Name: 10_year_cites, dtype: float64"
      ]
     },
     "execution_count": 66,
     "metadata": {},
     "output_type": "execute_result"
    }
   ],
   "source": [
    "v6[Y_col_R[0]].describe()"
   ]
  },
  {
   "cell_type": "code",
   "execution_count": 76,
   "metadata": {},
   "outputs": [],
   "source": [
    "Y_R = v6[Y_col_R[0]].as_matrix()\n",
    "\n",
    "X_train, X_test, y_train, y_test, ind_train, ind_test = sklearn.model_selection.train_test_split(\n",
    "    X, Y_R, v6.index.values , random_state=0, shuffle=True)"
   ]
  },
  {
   "cell_type": "code",
   "execution_count": 77,
   "metadata": {},
   "outputs": [
    {
     "name": "stderr",
     "output_type": "stream",
     "text": [
      "/home/software/sloan/local/lib/py36/sklearn/utils/validation.py:444: DataConversionWarning: Data with input dtype int64 was converted to float64 by StandardScaler.\n",
      "  warnings.warn(msg, DataConversionWarning)\n"
     ]
    }
   ],
   "source": [
    "ss = preprocessing.StandardScaler().fit(y_train.reshape(-1,1))"
   ]
  },
  {
   "cell_type": "code",
   "execution_count": 78,
   "metadata": {},
   "outputs": [
    {
     "name": "stderr",
     "output_type": "stream",
     "text": [
      "/home/software/sloan/local/lib/py36/sklearn/utils/validation.py:444: DataConversionWarning: Data with input dtype int64 was converted to float64 by StandardScaler.\n",
      "  warnings.warn(msg, DataConversionWarning)\n"
     ]
    }
   ],
   "source": [
    "y_train2 = ss.transform(y_train.reshape(-1,1))"
   ]
  },
  {
   "cell_type": "code",
   "execution_count": 79,
   "metadata": {},
   "outputs": [
    {
     "name": "stderr",
     "output_type": "stream",
     "text": [
      "/home/software/sloan/local/lib/py36/sklearn/utils/validation.py:444: DataConversionWarning: Data with input dtype int64 was converted to float64 by StandardScaler.\n",
      "  warnings.warn(msg, DataConversionWarning)\n"
     ]
    }
   ],
   "source": [
    "y_test2 = ss.transform(y_test.reshape(-1,1))"
   ]
  },
  {
   "cell_type": "code",
   "execution_count": 82,
   "metadata": {},
   "outputs": [
    {
     "name": "stderr",
     "output_type": "stream",
     "text": [
      "/home/software/sloan/local/lib/py36/sklearn/svm/base.py:218: ConvergenceWarning: Solver terminated early (max_iter=800).  Consider pre-processing your data with StandardScaler or MinMaxScaler.\n",
      "  % self.max_iter, ConvergenceWarning)\n"
     ]
    },
    {
     "data": {
      "text/plain": [
       "SVR(C=1.0, cache_size=200, coef0=0.0, degree=3, epsilon=0.1, gamma='auto',\n",
       "  kernel='rbf', max_iter=800, shrinking=True, tol=1, verbose=False)"
      ]
     },
     "execution_count": 82,
     "metadata": {},
     "output_type": "execute_result"
    }
   ],
   "source": [
    "clf2 = svm.SVR(kernel='poly', tol=1, max_iter=800)\n",
    "clf2.fit(X_train, np.ravel(y_train2))"
   ]
  },
  {
   "cell_type": "code",
   "execution_count": 51,
   "metadata": {},
   "outputs": [
    {
     "data": {
      "text/plain": [
       "(141504, 272)"
      ]
     },
     "execution_count": 51,
     "metadata": {},
     "output_type": "execute_result"
    }
   ],
   "source": [
    "X_train.shape"
   ]
  },
  {
   "cell_type": "code",
   "execution_count": 57,
   "metadata": {},
   "outputs": [],
   "source": [
    "regression_preds = clf2.predict(X_test)"
   ]
  },
  {
   "cell_type": "code",
   "execution_count": 59,
   "metadata": {},
   "outputs": [
    {
     "data": {
      "text/plain": [
       "0.01995849976564057"
      ]
     },
     "execution_count": 59,
     "metadata": {},
     "output_type": "execute_result"
    }
   ],
   "source": [
    "from sklearn import metrics\n",
    "metrics.explained_variance_score(y_test, regression_preds)"
   ]
  },
  {
   "cell_type": "code",
   "execution_count": 60,
   "metadata": {},
   "outputs": [
    {
     "data": {
      "text/plain": [
       "4032.2344224049016"
      ]
     },
     "execution_count": 60,
     "metadata": {},
     "output_type": "execute_result"
    }
   ],
   "source": [
    "metrics.mean_squared_error(y_test, regression_preds)"
   ]
  },
  {
   "cell_type": "code",
   "execution_count": 62,
   "metadata": {},
   "outputs": [],
   "source": [
    "regression_df = pd.DataFrame(\n",
    "    {'actual': y_test, 'predicted': regression_preds}, index=ind_test, )"
   ]
  },
  {
   "cell_type": "code",
   "execution_count": 63,
   "metadata": {},
   "outputs": [
    {
     "data": {
      "text/html": [
       "<div>\n",
       "<style>\n",
       "    .dataframe thead tr:only-child th {\n",
       "        text-align: right;\n",
       "    }\n",
       "\n",
       "    .dataframe thead th {\n",
       "        text-align: left;\n",
       "    }\n",
       "\n",
       "    .dataframe tbody tr th {\n",
       "        vertical-align: top;\n",
       "    }\n",
       "</style>\n",
       "<table border=\"1\" class=\"dataframe\">\n",
       "  <thead>\n",
       "    <tr style=\"text-align: right;\">\n",
       "      <th></th>\n",
       "      <th>actual</th>\n",
       "      <th>predicted</th>\n",
       "    </tr>\n",
       "  </thead>\n",
       "  <tbody>\n",
       "    <tr>\n",
       "      <th>4536820</th>\n",
       "      <td>1</td>\n",
       "      <td>71.173187</td>\n",
       "    </tr>\n",
       "    <tr>\n",
       "      <th>4636768</th>\n",
       "      <td>1</td>\n",
       "      <td>71.094196</td>\n",
       "    </tr>\n",
       "    <tr>\n",
       "      <th>5826797</th>\n",
       "      <td>7</td>\n",
       "      <td>71.964769</td>\n",
       "    </tr>\n",
       "    <tr>\n",
       "      <th>4786045</th>\n",
       "      <td>0</td>\n",
       "      <td>71.119442</td>\n",
       "    </tr>\n",
       "    <tr>\n",
       "      <th>4948455</th>\n",
       "      <td>1</td>\n",
       "      <td>71.391345</td>\n",
       "    </tr>\n",
       "    <tr>\n",
       "      <th>4708930</th>\n",
       "      <td>15</td>\n",
       "      <td>72.550414</td>\n",
       "    </tr>\n",
       "    <tr>\n",
       "      <th>5300310</th>\n",
       "      <td>3</td>\n",
       "      <td>71.372053</td>\n",
       "    </tr>\n",
       "    <tr>\n",
       "      <th>4815294</th>\n",
       "      <td>2</td>\n",
       "      <td>71.603897</td>\n",
       "    </tr>\n",
       "    <tr>\n",
       "      <th>4811175</th>\n",
       "      <td>8</td>\n",
       "      <td>71.523527</td>\n",
       "    </tr>\n",
       "    <tr>\n",
       "      <th>4597778</th>\n",
       "      <td>1</td>\n",
       "      <td>71.402780</td>\n",
       "    </tr>\n",
       "    <tr>\n",
       "      <th>5845106</th>\n",
       "      <td>8</td>\n",
       "      <td>71.581898</td>\n",
       "    </tr>\n",
       "    <tr>\n",
       "      <th>5295995</th>\n",
       "      <td>39</td>\n",
       "      <td>71.837908</td>\n",
       "    </tr>\n",
       "    <tr>\n",
       "      <th>4940086</th>\n",
       "      <td>4</td>\n",
       "      <td>71.235750</td>\n",
       "    </tr>\n",
       "    <tr>\n",
       "      <th>5991444</th>\n",
       "      <td>84</td>\n",
       "      <td>72.868084</td>\n",
       "    </tr>\n",
       "    <tr>\n",
       "      <th>5584249</th>\n",
       "      <td>1</td>\n",
       "      <td>71.115381</td>\n",
       "    </tr>\n",
       "    <tr>\n",
       "      <th>5922255</th>\n",
       "      <td>2</td>\n",
       "      <td>71.555151</td>\n",
       "    </tr>\n",
       "    <tr>\n",
       "      <th>5931967</th>\n",
       "      <td>13</td>\n",
       "      <td>73.214794</td>\n",
       "    </tr>\n",
       "    <tr>\n",
       "      <th>5664740</th>\n",
       "      <td>17</td>\n",
       "      <td>71.802771</td>\n",
       "    </tr>\n",
       "    <tr>\n",
       "      <th>5501077</th>\n",
       "      <td>5</td>\n",
       "      <td>71.913206</td>\n",
       "    </tr>\n",
       "    <tr>\n",
       "      <th>4690656</th>\n",
       "      <td>13</td>\n",
       "      <td>71.564036</td>\n",
       "    </tr>\n",
       "    <tr>\n",
       "      <th>5691695</th>\n",
       "      <td>37</td>\n",
       "      <td>71.625714</td>\n",
       "    </tr>\n",
       "    <tr>\n",
       "      <th>5727089</th>\n",
       "      <td>2</td>\n",
       "      <td>72.038122</td>\n",
       "    </tr>\n",
       "    <tr>\n",
       "      <th>5364882</th>\n",
       "      <td>0</td>\n",
       "      <td>72.123610</td>\n",
       "    </tr>\n",
       "    <tr>\n",
       "      <th>5677533</th>\n",
       "      <td>8</td>\n",
       "      <td>71.940259</td>\n",
       "    </tr>\n",
       "    <tr>\n",
       "      <th>5758889</th>\n",
       "      <td>8</td>\n",
       "      <td>71.333606</td>\n",
       "    </tr>\n",
       "    <tr>\n",
       "      <th>4986771</th>\n",
       "      <td>0</td>\n",
       "      <td>71.279533</td>\n",
       "    </tr>\n",
       "    <tr>\n",
       "      <th>4856197</th>\n",
       "      <td>5</td>\n",
       "      <td>71.451724</td>\n",
       "    </tr>\n",
       "    <tr>\n",
       "      <th>5013336</th>\n",
       "      <td>2</td>\n",
       "      <td>71.656687</td>\n",
       "    </tr>\n",
       "    <tr>\n",
       "      <th>5326749</th>\n",
       "      <td>2</td>\n",
       "      <td>72.323194</td>\n",
       "    </tr>\n",
       "    <tr>\n",
       "      <th>5324171</th>\n",
       "      <td>3</td>\n",
       "      <td>71.243220</td>\n",
       "    </tr>\n",
       "    <tr>\n",
       "      <th>...</th>\n",
       "      <td>...</td>\n",
       "      <td>...</td>\n",
       "    </tr>\n",
       "    <tr>\n",
       "      <th>5795889</th>\n",
       "      <td>8</td>\n",
       "      <td>72.795750</td>\n",
       "    </tr>\n",
       "    <tr>\n",
       "      <th>5306607</th>\n",
       "      <td>2</td>\n",
       "      <td>73.484604</td>\n",
       "    </tr>\n",
       "    <tr>\n",
       "      <th>5489741</th>\n",
       "      <td>3</td>\n",
       "      <td>71.278365</td>\n",
       "    </tr>\n",
       "    <tr>\n",
       "      <th>5067511</th>\n",
       "      <td>8</td>\n",
       "      <td>71.526557</td>\n",
       "    </tr>\n",
       "    <tr>\n",
       "      <th>4867566</th>\n",
       "      <td>3</td>\n",
       "      <td>71.200695</td>\n",
       "    </tr>\n",
       "    <tr>\n",
       "      <th>4592843</th>\n",
       "      <td>2</td>\n",
       "      <td>71.264661</td>\n",
       "    </tr>\n",
       "    <tr>\n",
       "      <th>5414087</th>\n",
       "      <td>2</td>\n",
       "      <td>72.129717</td>\n",
       "    </tr>\n",
       "    <tr>\n",
       "      <th>4726735</th>\n",
       "      <td>5</td>\n",
       "      <td>71.779546</td>\n",
       "    </tr>\n",
       "    <tr>\n",
       "      <th>5925375</th>\n",
       "      <td>2</td>\n",
       "      <td>72.446295</td>\n",
       "    </tr>\n",
       "    <tr>\n",
       "      <th>5436850</th>\n",
       "      <td>16</td>\n",
       "      <td>72.440741</td>\n",
       "    </tr>\n",
       "    <tr>\n",
       "      <th>5990041</th>\n",
       "      <td>5</td>\n",
       "      <td>72.309450</td>\n",
       "    </tr>\n",
       "    <tr>\n",
       "      <th>5751981</th>\n",
       "      <td>26</td>\n",
       "      <td>73.798902</td>\n",
       "    </tr>\n",
       "    <tr>\n",
       "      <th>5689955</th>\n",
       "      <td>4</td>\n",
       "      <td>71.646863</td>\n",
       "    </tr>\n",
       "    <tr>\n",
       "      <th>5089755</th>\n",
       "      <td>1</td>\n",
       "      <td>71.718290</td>\n",
       "    </tr>\n",
       "    <tr>\n",
       "      <th>4571345</th>\n",
       "      <td>7</td>\n",
       "      <td>72.170643</td>\n",
       "    </tr>\n",
       "    <tr>\n",
       "      <th>6006461</th>\n",
       "      <td>6</td>\n",
       "      <td>71.432760</td>\n",
       "    </tr>\n",
       "    <tr>\n",
       "      <th>5706807</th>\n",
       "      <td>10</td>\n",
       "      <td>71.517817</td>\n",
       "    </tr>\n",
       "    <tr>\n",
       "      <th>5963962</th>\n",
       "      <td>196</td>\n",
       "      <td>72.045290</td>\n",
       "    </tr>\n",
       "    <tr>\n",
       "      <th>4712110</th>\n",
       "      <td>4</td>\n",
       "      <td>71.771139</td>\n",
       "    </tr>\n",
       "    <tr>\n",
       "      <th>4828314</th>\n",
       "      <td>7</td>\n",
       "      <td>71.394536</td>\n",
       "    </tr>\n",
       "    <tr>\n",
       "      <th>4750613</th>\n",
       "      <td>4</td>\n",
       "      <td>70.959935</td>\n",
       "    </tr>\n",
       "    <tr>\n",
       "      <th>4771575</th>\n",
       "      <td>6</td>\n",
       "      <td>71.216319</td>\n",
       "    </tr>\n",
       "    <tr>\n",
       "      <th>4540292</th>\n",
       "      <td>7</td>\n",
       "      <td>72.291140</td>\n",
       "    </tr>\n",
       "    <tr>\n",
       "      <th>5639015</th>\n",
       "      <td>1</td>\n",
       "      <td>72.071388</td>\n",
       "    </tr>\n",
       "    <tr>\n",
       "      <th>4915786</th>\n",
       "      <td>3</td>\n",
       "      <td>71.930463</td>\n",
       "    </tr>\n",
       "    <tr>\n",
       "      <th>5556544</th>\n",
       "      <td>6</td>\n",
       "      <td>71.304439</td>\n",
       "    </tr>\n",
       "    <tr>\n",
       "      <th>4623318</th>\n",
       "      <td>9</td>\n",
       "      <td>71.226220</td>\n",
       "    </tr>\n",
       "    <tr>\n",
       "      <th>5345081</th>\n",
       "      <td>2</td>\n",
       "      <td>71.463952</td>\n",
       "    </tr>\n",
       "    <tr>\n",
       "      <th>5105599</th>\n",
       "      <td>239</td>\n",
       "      <td>74.406422</td>\n",
       "    </tr>\n",
       "    <tr>\n",
       "      <th>5716729</th>\n",
       "      <td>33</td>\n",
       "      <td>72.754136</td>\n",
       "    </tr>\n",
       "  </tbody>\n",
       "</table>\n",
       "<p>47168 rows × 2 columns</p>\n",
       "</div>"
      ],
      "text/plain": [
       "         actual  predicted\n",
       "4536820       1  71.173187\n",
       "4636768       1  71.094196\n",
       "5826797       7  71.964769\n",
       "4786045       0  71.119442\n",
       "4948455       1  71.391345\n",
       "4708930      15  72.550414\n",
       "5300310       3  71.372053\n",
       "4815294       2  71.603897\n",
       "4811175       8  71.523527\n",
       "4597778       1  71.402780\n",
       "5845106       8  71.581898\n",
       "5295995      39  71.837908\n",
       "4940086       4  71.235750\n",
       "5991444      84  72.868084\n",
       "5584249       1  71.115381\n",
       "5922255       2  71.555151\n",
       "5931967      13  73.214794\n",
       "5664740      17  71.802771\n",
       "5501077       5  71.913206\n",
       "4690656      13  71.564036\n",
       "5691695      37  71.625714\n",
       "5727089       2  72.038122\n",
       "5364882       0  72.123610\n",
       "5677533       8  71.940259\n",
       "5758889       8  71.333606\n",
       "4986771       0  71.279533\n",
       "4856197       5  71.451724\n",
       "5013336       2  71.656687\n",
       "5326749       2  72.323194\n",
       "5324171       3  71.243220\n",
       "...         ...        ...\n",
       "5795889       8  72.795750\n",
       "5306607       2  73.484604\n",
       "5489741       3  71.278365\n",
       "5067511       8  71.526557\n",
       "4867566       3  71.200695\n",
       "4592843       2  71.264661\n",
       "5414087       2  72.129717\n",
       "4726735       5  71.779546\n",
       "5925375       2  72.446295\n",
       "5436850      16  72.440741\n",
       "5990041       5  72.309450\n",
       "5751981      26  73.798902\n",
       "5689955       4  71.646863\n",
       "5089755       1  71.718290\n",
       "4571345       7  72.170643\n",
       "6006461       6  71.432760\n",
       "5706807      10  71.517817\n",
       "5963962     196  72.045290\n",
       "4712110       4  71.771139\n",
       "4828314       7  71.394536\n",
       "4750613       4  70.959935\n",
       "4771575       6  71.216319\n",
       "4540292       7  72.291140\n",
       "5639015       1  72.071388\n",
       "4915786       3  71.930463\n",
       "5556544       6  71.304439\n",
       "4623318       9  71.226220\n",
       "5345081       2  71.463952\n",
       "5105599     239  74.406422\n",
       "5716729      33  72.754136\n",
       "\n",
       "[47168 rows x 2 columns]"
      ]
     },
     "execution_count": 63,
     "metadata": {},
     "output_type": "execute_result"
    }
   ],
   "source": [
    "regression_df"
   ]
  },
  {
   "cell_type": "code",
   "execution_count": null,
   "metadata": {},
   "outputs": [],
   "source": []
  }
 ],
 "metadata": {
  "kernelspec": {
   "display_name": "Python 3",
   "language": "python",
   "name": "python3"
  },
  "language_info": {
   "codemirror_mode": {
    "name": "ipython",
    "version": 3
   },
   "file_extension": ".py",
   "mimetype": "text/x-python",
   "name": "python",
   "nbconvert_exporter": "python",
   "pygments_lexer": "ipython3",
   "version": "3.6.3"
  }
 },
 "nbformat": 4,
 "nbformat_minor": 2
}
